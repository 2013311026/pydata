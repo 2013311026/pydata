{
 "cells": [
  {
   "cell_type": "code",
   "execution_count": 1,
   "metadata": {},
   "outputs": [],
   "source": [
    "# -*- coding: utf-8 -*-\n",
    "\n",
    "import numpy as np\n",
    "import pandas as pd\n",
    "import matplotlib.pyplot as plt\n",
    "import seaborn as sns\n",
    "\n",
    "sns.set()"
   ]
  },
  {
   "cell_type": "code",
   "execution_count": 2,
   "metadata": {
    "scrolled": true
   },
   "outputs": [],
   "source": [
    "# %%time\n",
    "# \n",
    "# # -*-coding:utf-8-*-\n",
    "# import os\n",
    "# \n",
    "# filePath = '/Users/jing/pydata/datasets/plantiq/ferrero/'\n",
    "# \n",
    "# fileMap = {}\n",
    "# size = 0\n",
    "# \n",
    "# # 遍历filePath下的文件、文件夹（包括子目录）\n",
    "# for parent, dirnames, filenames in os.walk(filePath):\n",
    "#     for dirname in dirnames:\n",
    "# #         print('parent is %s, dirname is %s' % (parent, dirname))\n",
    "#         pass\n",
    "# \n",
    "#     for filename in filenames:\n",
    "# #         print('parent is %s, filename is %s' % (parent, filename))\n",
    "# #         print('the full name of the file is %s' % os.path.join(parent, filename))\n",
    "#         \n",
    "#         size = os.path.getsize(os.path.join(parent, filename))\n",
    "#         fileMap.setdefault(os.path.join(parent, filename), size)\n",
    "# \n",
    "# filelist = sorted(fileMap.items(), key=lambda x: x[1], reverse=True)\n",
    "# \n",
    "# df = []\n",
    "# for filename, size in filelist:\n",
    "#     df.append(pd.read_csv(filename, index_col=False))"
   ]
  },
  {
   "cell_type": "code",
   "execution_count": 3,
   "metadata": {},
   "outputs": [],
   "source": [
    "# %%time\n",
    "# \n",
    "# df_res = []\n",
    "# \n",
    "# for i in range(len(df) - 1):\n",
    "#     df[i].Time = pd.to_datetime(df[i].Time)\n",
    "#     df_new = df[i].set_index('Time')[['Value']]['2018-05-09 00:00:00':'2018-05-14 02:13:19']\n",
    "#     col = filelist[i][0].split('.')[0].split('/')[-1]\n",
    "#     df_new.rename(columns={'Value':col}, inplace=True)\n",
    "#     df_res.append(df_new)\n",
    "# \n",
    "# df_res = pd.concat(df_res, axis=1)"
   ]
  },
  {
   "cell_type": "code",
   "execution_count": 4,
   "metadata": {},
   "outputs": [
    {
     "name": "stdout",
     "output_type": "stream",
     "text": [
      "CPU times: user 47.9 s, sys: 6.13 s, total: 54 s\nWall time: 55.8 s\n"
     ]
    }
   ],
   "source": [
    "%%time\n",
    "\n",
    "data = pd.read_csv('/Users/jing/pydata/datasets/plantiq/data.csv')\n",
    "data.Time = pd.to_datetime(data.Time)\n",
    "data = data.set_index('Time')"
   ]
  },
  {
   "cell_type": "markdown",
   "metadata": {
    "scrolled": true
   },
   "source": [
    "### 特征选择及数据可视化"
   ]
  },
  {
   "cell_type": "code",
   "execution_count": 5,
   "metadata": {
    "scrolled": true
   },
   "outputs": [],
   "source": [
    "# %%time\n",
    "# \n",
    "# from sklearn.feature_selection import VarianceThreshold\n",
    "# \n",
    "# df_res_sel = VarianceThreshold().fit_transform(data.dropna())\n",
    "# df_res_sel = pd.DataFrame(df_res_sel)"
   ]
  },
  {
   "cell_type": "code",
   "execution_count": 6,
   "metadata": {},
   "outputs": [],
   "source": []
  },
  {
   "cell_type": "code",
   "execution_count": 6,
   "metadata": {
    "scrolled": true
   },
   "outputs": [],
   "source": [
    "# pt = pd.read_csv('/Users/jing/Desktop/ncicbj/ferrero/点表.csv', encoding='gbk')\n",
    "# pt = pt[['@Name', '@Desc']]\n",
    "# pt = pt.set_index('@Name')\n",
    "# pt = pt.T"
   ]
  },
  {
   "cell_type": "code",
   "execution_count": 7,
   "metadata": {
    "scrolled": true
   },
   "outputs": [],
   "source": [
    "# tmp = pd.DataFrame()\n",
    "# \n",
    "# for col in df_res.columns:\n",
    "#     tmp[col] = pt[':qiedanji.' + col]"
   ]
  },
  {
   "cell_type": "code",
   "execution_count": 8,
   "metadata": {},
   "outputs": [],
   "source": [
    ""
   ]
  },
  {
   "cell_type": "code",
   "execution_count": 9,
   "metadata": {},
   "outputs": [],
   "source": [
    "# from sklearn.ensemble import IsolationForest\n",
    "\n",
    "# iforest = IsolationForest(n_estimators=100,\n",
    "#                       n_jobs=-1, # 使用全部cpu\n",
    "#                       verbose=2,)\n",
    "\n",
    "# data = df_res_sel\n",
    "# # 选取特征，不使用标签(类型)\n",
    "# # X_cols = [\"age\", \"salary\", \"sex\"]\n",
    "# print (data.shape)\n",
    "\n",
    "# # 训练\n",
    "# # iforest.fit(data[X_cols])\n",
    "# iforest.fit(data)\n",
    "\n",
    "# pred = iforest.predict(data)\n",
    "\n",
    "# data['pred'] = pred"
   ]
  },
  {
   "cell_type": "code",
   "execution_count": 10,
   "metadata": {},
   "outputs": [],
   "source": [
    "# outliers = data[data['pred'] == -1].iloc[:, :17]\n",
    "# outliers"
   ]
  },
  {
   "cell_type": "code",
   "execution_count": 11,
   "metadata": {},
   "outputs": [],
   "source": []
  },
  {
   "cell_type": "code",
   "execution_count": 11,
   "metadata": {},
   "outputs": [],
   "source": [
    "# %%time\n",
    "# \n",
    "# n = 20\n",
    "# \n",
    "# for i in range(0, df_res.shape[1] - 1, n):\n",
    "#     df_res.iloc[:, i:i+n].plot(figsize=(16, 12), subplots=True);plt.show()"
   ]
  },
  {
   "cell_type": "code",
   "execution_count": 12,
   "metadata": {
    "collapsed": true
   },
   "outputs": [],
   "source": [
    ""
   ]
  },
  {
   "cell_type": "code",
   "execution_count": 12,
   "metadata": {
    "collapsed": true
   },
   "outputs": [],
   "source": [
    "col = [1, 5, 14, 15, 16, 18, 41, 47, 48, 49, 50, 51, 52, 74, 77, 78, 79, 85, 86, 87, 88, 90,\n",
    "       110, 111, 116, 119, 128, 161, 175, 185, 191, 196, 237, 241, 250, 253, 271, 288,\n",
    "       305, 316, 325, 328, 341, 352, 358, 364, 392, 438, 462, 467]\n",
    "\n",
    "data_sel = data.iloc[:, col]"
   ]
  },
  {
   "cell_type": "code",
   "execution_count": 13,
   "metadata": {
    "collapsed": false
   },
   "outputs": [
    {
     "name": "stdout",
     "output_type": "stream",
     "text": [
      "Index(['Hmi_Ow_wOLineLCycleMachineCounter_L', 'Hmi_Ow_E_Cut_Main_O2x',\n       'Hmi_Ow_E_Cut_Motion_O1x', 'Hmi_Iw_E_Line_Main_I1x',\n       'Hmi_Ow_wOLineLCycleMachineCountPart_L',\n       'Hmi_Ow_wOCutMILMVacuumRefPosition', 'Hmi_Ow_wOLineCounterDrop',\n       'Hmi_Ow_wOLineLMediumRealSpeed', 'Hmi_Ow_wOLineLLastRealSpeed',\n       'Hmi_Ow_wOCutMILMAdvancePunchRefPosition', 'Hmi_Ow_E_Line_Main_O1x',\n       'Hmi_Ow_wOCutMILMOutfeedBeltRefPosition',\n       'Hmi_Ow_wOCutMMCVMasterRefPosition',\n       'Hmi_Ow_wOCutMILMSelectedRefPosition', 'Hmi_Ow_E_Cut_Main_OA10x',\n       'Hmi_Ow_E_Line_Main_O2x', 'Hmi_Ow_E_Cut_Main_OA4x',\n       'Hmi_Ow_E_Cut_Main_OA2x', 'Hmi_Ow_E_Cut_Cams_O1x',\n       'Hmi_Ow_E_Line_Main_OA1x', 'Hmi_Iw_wICutM_Motor_Manual_Select_HMI',\n       'Hmi_Ow_E_Cut_Motion_O2x', 'Hmi_x_Owx_Ow_8_Cut_xOCutLAl854_SafeGuard7',\n       'Hmi_x_Owx_Ow_0_Line_xOLineLAl102EmergencyStop',\n       'Hmi_Ow_wOLineLCycleMachineCountPart_H',\n       'Hmi_x_Iwx_Iw_8_Cut_xICutMILMCutJogMeno',\n       'Hmi_x_Owx_Ow_8_Cut_xOCutLAl853_SafeGuard6',\n       'Hmi_Ow_wOCutL_Machine_Status',\n       'Hmi_x_Owx_Ow_8_Cut_xOCutLAl849_SafeGuard2', 'Hmi_Iw_E_Cut_Motion_I1x',\n       'Hmi_x_Owx_Ow_8_Cut_xOCutLAlScrapBlockAlarm2',\n       'Hmi_x_Iwx_Iw_0_Line_xILineLEn_InLineProdUpStream',\n       'Hmi_x_Owx_Ow_8_Cut_xOCutLAllAxisAreStandstill',\n       'Hmi_Ow_E_Line_Main_OA3x',\n       'Hmi_x_Owx_Ow_0_Line_xOLineLAllAxisAreStandstill',\n       'Hmi_x_Owx_Ow_8_Cut_xOCutLAl850_SafeGuard3',\n       'Hmi_x_Owx_Ow_8_Cut_xOCutLAl851_SafeGuard4',\n       'Hmi_x_Owx_Ow_8_Cut_xOCutLAlScrapBlockAlarm',\n       'Hmi_x_Owx_Ow_0_Line_xOLineLWa134MachineRunning',\n       'Hmi_Ow_wOLineLProductionGoodProducts_L',\n       'Hmi_x_Iwx_Iw_0_Line_xILineLEn_InLineProdDownStream',\n       'Hmi_x_Owx_Ow_0_Line_xOLineLAlmostOneAlarmPresent',\n       'Hmi_Iw_E_Cut_Cams_I1x', 'Hmi_x_Owx_Ow_0_Line_xOLineLWa133MachineReady',\n       'Hmi_x_Owx_Ow_8_Cut_xOCutLAl830InfeedBlockAlarm',\n       'Hmi_x_Owx_Ow_8_Cut_xOCutLWa949PreAlarmTempEC',\n       'Hmi_x_Owx_Ow_8_Cut_xOCutLWa946DwnStreamNotRdy',\n       'Hmi_x_Owx_Ow_8_Cut_xOCutLWa947NotReadyToUpstream',\n       'Hmi_x_Owx_Ow_8_Cut_xOCutLWa948ReqOpenGuards',\n       'Hmi_x_Iwx_Iw_8_Cut_xICutLAlEn824_4warning'],\n      dtype='object')\n"
     ]
    }
   ],
   "source": [
    "print(data_sel.columns)"
   ]
  },
  {
   "cell_type": "code",
   "execution_count": 14,
   "metadata": {
    "collapsed": false
   },
   "outputs": [
    {
     "name": "stdout",
     "output_type": "stream",
     "text": [
      "CPU times: user 1min 34s, sys: 2.82 s, total: 1min 37s\nWall time: 1min 38s\n"
     ]
    }
   ],
   "source": [
    "%%time\n",
    "\n",
    "data_sel.plot(figsize=(16, 32), subplots=True);plt.show()"
   ]
  },
  {
   "cell_type": "code",
   "execution_count": 15,
   "metadata": {},
   "outputs": [
    {
     "name": "stdout",
     "output_type": "stream",
     "text": [
      "CPU times: user 6.41 s, sys: 1.87 s, total: 8.28 s\nWall time: 6.93 s\n"
     ]
    }
   ],
   "source": [
    "%%time\n",
    "\n",
    "from sklearn.decomposition import PCA\n",
    "\n",
    "#主成分分析法，返回降维后的数据\n",
    "#参数n_components为主成分数目\n",
    "pca = PCA(n_components=10)\n",
    "data_pca = pca.fit_transform(data_sel.dropna())\n",
    "\n",
    "data_pca = pd.DataFrame(data_pca)\n",
    "\n",
    "data_pca.plot(figsize=(16, 12), subplots=True);plt.show()"
   ]
  },
  {
   "cell_type": "code",
   "execution_count": 16,
   "metadata": {
    "collapsed": true
   },
   "outputs": [],
   "source": [
    "norm = data_sel.iloc[:203500, :].dropna().iloc[:203000, :]\n",
    "fault = data_sel.iloc[203500:, :].dropna().iloc[:203000, :]"
   ]
  },
  {
   "cell_type": "code",
   "execution_count": 17,
   "metadata": {},
   "outputs": [],
   "source": [
    "# from scipy.spatial.distance import pdist, squareform\n",
    "# \n",
    "# X = pdist(norm[:100], 'euclidean')\n",
    "# \n",
    "# Y = squareform(X)"
   ]
  },
  {
   "cell_type": "code",
   "execution_count": 18,
   "metadata": {},
   "outputs": [
    {
     "name": "stdout",
     "output_type": "stream",
     "text": [
      "CPU times: user 57.9 s, sys: 3.14 s, total: 1min 1s\nWall time: 1min 1s\n"
     ]
    }
   ],
   "source": [
    "%%time\n",
    "\n",
    "norm.plot(figsize=(16, 32), subplots=True)\n",
    "fault.plot(figsize=(16, 32), subplots=True)\n",
    "plt.show()"
   ]
  },
  {
   "cell_type": "code",
   "execution_count": 19,
   "metadata": {},
   "outputs": [],
   "source": [
    "# %%time\n",
    "# \n",
    "# data_sel.resample('10s').mean().to_csv('data_50columns_10s.csv')"
   ]
  },
  {
   "cell_type": "code",
   "execution_count": 20,
   "metadata": {},
   "outputs": [],
   "source": [
    "# %%time\n",
    "# \n",
    "# data_sel.to_csv('data_50columns_1s.csv')"
   ]
  },
  {
   "cell_type": "code",
   "execution_count": null,
   "metadata": {},
   "outputs": [],
   "source": []
  }
 ],
 "metadata": {
  "kernelspec": {
   "display_name": "Python 3",
   "language": "python",
   "name": "python3"
  },
  "language_info": {
   "codemirror_mode": {
    "name": "ipython",
    "version": 3
   },
   "file_extension": ".py",
   "mimetype": "text/x-python",
   "name": "python",
   "nbconvert_exporter": "python",
   "pygments_lexer": "ipython3",
   "version": "3.6.3"
  }
 },
 "nbformat": 4,
 "nbformat_minor": 2
}
