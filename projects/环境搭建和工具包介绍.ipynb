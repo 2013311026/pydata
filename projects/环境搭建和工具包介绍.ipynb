{
 "cells": [
  {
   "attachments": {},
   "cell_type": "markdown",
   "metadata": {},
   "source": [
    "# 一、数据分析工作环境\n",
    "\n",
    "## Anaconda：\n",
    "\n",
    "Anaconda（水蟒）是一个科学计算软件发行版，集成了大量常用扩展包的环境，包含了 Python 解释器，conda 包管理工具，以及 NumPy、Pandas、Matplotlib 等 180 多个科学计算包及其依赖项，并且支持所有操作系统平台。\n",
    "下载地址：https://www.anaconda.com/distribution/\n",
    "\n",
    "conda命令和pip命令对比：\n",
    "\n",
    "```\n",
    "安装包：pip install xxx, conda install xxx\n",
    "卸载包：pip uninstall xxx, conda uninstall xxx\n",
    "升级包：pip install upgrade xxx, conda update xxx\n",
    "```"
   ]
  },
  {
   "attachments": {},
   "cell_type": "markdown",
   "metadata": {},
   "source": [
    "# 二、数据分析工具\n",
    "\n",
    "Python本身的数据分析功能不强，需要第三方的扩展库来增强的它的能力。我们课程用到的库包括NumPy、Pandas、Matplotlib等，下面对这三个库做一个简单介绍，后面会通过案例深入讲解相关库的使用。\n",
    "\n",
    "## Numpy\n",
    "\n",
    "Python并没有提供数组的功能。虽然列表可以完成基本的数组功能，但它不是真正的数组，而且在数据量较大的时候，使用列表的速度会慢的让人难以接受。为此，Numpy提供了真正的数组功能，以及对数据进行快速高效处理的函数。Numpy还是很多更高级的扩展库的依赖库，后面讲解的Matplotlib库、Pandas库都依赖于它。\n",
    "\n",
    "## Pandas\n",
    "\n",
    "Pandas是Python下最强大的数据分析工具。它包含高级的数据结构，使得在Python中处理表格型数据非常快速和简单。Pandas构建与Numpy之上，它使得以Numpy为中心的应用很容易被使用，最初是被作为金融数据分析工具而开发出来的。\n",
    "Pandas功能非常强大，支持类似与SQL的数据增、删、改、查，并且带有丰富的数据处理函数，支持灵活的处理缺失数据。\n",
    "\n",
    "## Matplotlib\n",
    "\n",
    "处理数据分析的结果，都免不了数据可视化的问题。对于Python来说， Matplotlib来说是最著名的绘图库，它主要用于二维绘图。它可以让我们非常快捷的用Python可视化数据。"
   ]
  },
  {
   "attachments": {},
   "cell_type": "markdown",
   "metadata": {},
   "source": [
    "# 三、IDE开发工具\n",
    "\n",
    "## Jupyter Notebook：\n",
    "\n",
    "命令：jupyter notebook\n",
    "Anaconda自带，无需单独安装\n",
    "实时查看运行过程\n",
    "基本的web编辑器（本地）\n",
    ".ipynb 文件分享\n",
    "可交互式\n",
    "记录历史运行结果\n",
    "支持编写markdown\n",
    "\n",
    "## IPython：\n",
    "\n",
    "命令：ipython\n",
    "Anaconda自带，无需单独安装\n",
    "Python的交互式命令行 Shell\n",
    "可交互式\n",
    "记录历史运行结果\n",
    "及时验证结果\n",
    "\n",
    "## Spyder：\n",
    "\n",
    "命令：spyder\n",
    "Anaconda自带，无需单独安装\n",
    "免费，操作简单的图形界面IDE\n",
    "\n",
    "## PyCharm：\n",
    "\n",
    "JetBrains公司出品，功能最强大的 Python 图形界面IDE。\n",
    "收费软件，需要自行安装和购买：https://www.jetbrains.com/pycharm/download"
   ]
  },
  {
   "attachments": {},
   "cell_type": "markdown",
   "metadata": {},
   "source": [
    "# 四、科学计算工具Numpy\n",
    "\n",
    "## Numpy（Numerical Python）\n",
    "\n",
    "Numpy：提供了一个在Python中做科学计算的基础库，重在数值计算，主要用于多维数组（矩阵）处理的库。用来存储和处理大型矩阵，比Python自身的嵌套列表结构要高效的多。本身是由C语言开发，是个很基础的扩展，Python其余的科学计算扩展大部分都是以此为基础。\n",
    "\n",
    "高性能科学计算和数据分析的基础包\n",
    "ndarray对象，表示多维数组（矩阵），具有矢量运算能力\n",
    "矩阵运算，无需循环，可完成类似Matlab中的矢量运算\n",
    "线性代数、随机数生成\n",
    "\n",
    "import numpy as np\n",
    "\n",
    "## Scipy\n",
    "\n",
    "Scipy ：基于Numpy提供了一个在Python中做科学计算的工具集，专为科学和工程设计的Python工具包。主要应用于统计优化、线性代数模块、傅里叶变换、信号和图像处理、常微分方程求解、积分方程、稀疏矩阵等，在数学系或者工程系相对用的多一些，和数据处理的关系不大，我们知道即可，这里不做讲解。\n",
    "在NumPy库的基础上增加了众多的数学、科学及工程常用的库函数\n",
    "线性代数、常微分方程求解、信号处理、图像处理\n",
    "一般的数据处理numpy已经够用\n",
    "\n",
    "import scipy as sp\n",
    "\n",
    "### 参考学习资料：\n",
    "\n",
    "Python、NumPy和SciPy介绍：http://cs231n.github.io/python-numpy-tutorial\n",
    "\n",
    "NumPy和SciPy快速入门：https://docs.scipy.org/doc/numpy/user/quickstart.html"
   ]
  },
  {
   "cell_type": "code",
   "execution_count": 1,
   "metadata": {},
   "outputs": [],
   "source": [
    "import numpy as np\n",
    "import pandas as pd"
   ]
  },
  {
   "attachments": {},
   "cell_type": "markdown",
   "metadata": {},
   "source": [
    "## 4.1 ndarray的创建\n",
    "\n",
    "### ndarray 多维数组(N Dimension Array)\n",
    "\n",
    "NumPy数组是一个多维的数组对象（矩阵），称为ndarray，具有高效的算术运算能力和复杂的广播能力，并具有执行速度快和节省空间的特点。\n",
    "\n",
    "注意：ndarray的下标从0开始，且数组里的所有元素必须是相同类型，每一个ndarray都拥有以下属性：\n",
    "\n",
    "- ndim属性：维度个数\n",
    "- shape属性：维度大小\n",
    "- dtype属性：数据类型"
   ]
  },
  {
   "cell_type": "markdown",
   "metadata": {},
   "source": [
    "### ndarray的随机抽样创建\n",
    "\n",
    "> 通过随机抽样 (numpy.random) 生成随机数据。"
   ]
  },
  {
   "cell_type": "markdown",
   "metadata": {},
   "source": [
    "#### 1. np.random.rand()\n",
    "\n",
    "> 生成指定维度的随机多维浮点型数组，数据固定区间 0.0 ~ 1.0"
   ]
  },
  {
   "cell_type": "code",
   "execution_count": 2,
   "metadata": {},
   "outputs": [
    {
     "name": "stdout",
     "output_type": "stream",
     "text": [
      "[[0.06088228 0.49803282 0.79818609 0.43772672]\n",
      " [0.77294629 0.6643921  0.41191311 0.13925151]\n",
      " [0.63587005 0.72486703 0.3659344  0.69805035]]\n",
      "<class 'numpy.ndarray'>\n"
     ]
    }
   ],
   "source": [
    "# 生成指定维度大小（3行4列）的随机多维浮点型数组（二维），rand固定区间0.0 ~ 1.0\n",
    "arr = np.random.rand(3, 4)\n",
    "print(arr)\n",
    "print(type(arr))"
   ]
  },
  {
   "cell_type": "code",
   "execution_count": 3,
   "metadata": {},
   "outputs": [
    {
     "name": "stdout",
     "output_type": "stream",
     "text": [
      "维度个数:  2\n",
      "维度大小:  (3, 4)\n",
      "数据类型:  float64\n"
     ]
    }
   ],
   "source": [
    "print('维度个数: ', arr.ndim)\n",
    "print('维度大小: ', arr.shape)\n",
    "print('数据类型: ', arr.dtype)"
   ]
  },
  {
   "cell_type": "markdown",
   "metadata": {},
   "source": [
    "#### 2. np.random.uniform()\n",
    "\n",
    "> 生成指定维度大小的随机多维浮点型数组，可以指定数字区间"
   ]
  },
  {
   "cell_type": "code",
   "execution_count": 4,
   "metadata": {},
   "outputs": [
    {
     "name": "stdout",
     "output_type": "stream",
     "text": [
      "[[ 1.90506619  3.67608499  4.86852829  3.43616259]\n",
      " [ 0.45357859  4.68026882  0.98024974  1.18498789]\n",
      " [ 3.6806248   1.4442486  -0.27114883  2.83369027]]\n",
      "<class 'numpy.ndarray'>\n"
     ]
    }
   ],
   "source": [
    "# 生成指定维度大小（3行4列）的随机多维浮点型数组（二维），uniform()可以指定区间（-1, 5）\n",
    "arr = np.random.uniform(-1, 5, size = (3, 4)) # 'size='可省略\n",
    "print(arr)\n",
    "print(type(arr))"
   ]
  },
  {
   "cell_type": "code",
   "execution_count": 5,
   "metadata": {},
   "outputs": [
    {
     "name": "stdout",
     "output_type": "stream",
     "text": [
      "维度个数:  2\n",
      "维度大小:  (3, 4)\n",
      "数据类型:  float64\n"
     ]
    }
   ],
   "source": [
    "print('维度个数: ', arr.ndim)\n",
    "print('维度大小: ', arr.shape)\n",
    "print('数据类型: ', arr.dtype)"
   ]
  },
  {
   "cell_type": "markdown",
   "metadata": {},
   "source": [
    "#### 3. np.random.randint()\n",
    "\n",
    "> 生成指定维度大小的随机多维整型数组，可以指定数字区间"
   ]
  },
  {
   "cell_type": "code",
   "execution_count": 6,
   "metadata": {},
   "outputs": [
    {
     "name": "stdout",
     "output_type": "stream",
     "text": [
      "[[-1  3  2  0]\n",
      " [ 4  2 -1  0]\n",
      " [ 0  0  1  1]]\n",
      "<class 'numpy.ndarray'>\n"
     ]
    }
   ],
   "source": [
    "# 生成指定维度大小（3行4列）的随机多维整型数据（二维），randint()可以指定区间（-1, 5）\n",
    "arr = np.random.randint(-1, 5, size = (3, 4)) # 'size='可省略\n",
    "print(arr)\n",
    "print(type(arr))"
   ]
  },
  {
   "cell_type": "code",
   "execution_count": 7,
   "metadata": {},
   "outputs": [
    {
     "name": "stdout",
     "output_type": "stream",
     "text": [
      "维度个数:  2\n",
      "维度大小:  (3, 4)\n",
      "数据类型:  int32\n"
     ]
    }
   ],
   "source": [
    "print('维度个数: ', arr.ndim)\n",
    "print('维度大小: ', arr.shape)\n",
    "print('数据类型: ', arr.dtype)"
   ]
  },
  {
   "cell_type": "markdown",
   "metadata": {},
   "source": [
    "### ndarray的序列创建\n",
    "\n",
    "#### 1. np.array(list, dtype)\n",
    "\n",
    "> list 为 序列型对象(list)、嵌套序列对象(list of list)，dtype表示数据类型 （int、float、str）。"
   ]
  },
  {
   "cell_type": "code",
   "execution_count": 8,
   "metadata": {},
   "outputs": [
    {
     "name": "stdout",
     "output_type": "stream",
     "text": [
      "[0 1 2 3 4 5 6 7 8 9]\n",
      "1\n",
      "(10,)\n",
      "[[0 1 2 3 4 5 6 7 8 9]\n",
      " [0 1 2 3 4 5 6 7 8 9]]\n",
      "2\n",
      "(2, 10)\n"
     ]
    }
   ],
   "source": [
    "# list 序列转换为 ndarray\n",
    "arr = np.array(range(10))\n",
    "\n",
    "print(arr)            # ndarray数据\n",
    "print(arr.ndim)        # 维度个数\n",
    "print(arr.shape)    # 维度大小\n",
    "\n",
    "# list of list 嵌套序列转换为ndarray\n",
    "lis_lis = [range(10), range(10)]\n",
    "arr_2d = np.array(lis_lis)\n",
    "\n",
    "print(arr_2d)            # ndarray数据\n",
    "print(arr_2d.ndim)        # 维度个数\n",
    "print(arr_2d.shape)        # 维度大小"
   ]
  },
  {
   "cell_type": "markdown",
   "metadata": {},
   "source": [
    "#### 2. np.zeros()\n",
    "\n",
    "> 指定大小的全0数组。注意：第一个参数是元组，用来指定大小，如(3, 4)，第二个参数可以指定类型，如int，默认为float。"
   ]
  },
  {
   "cell_type": "markdown",
   "metadata": {},
   "source": [
    "#### 3. np.ones()\n",
    "\n",
    "> 指定大小的全1数组。注意：第一个参数是元组，用来指定大小，如(3, 4)，第二个参数可以指定类型，如int，默认为float。"
   ]
  },
  {
   "cell_type": "code",
   "execution_count": 9,
   "metadata": {},
   "outputs": [
    {
     "name": "stdout",
     "output_type": "stream",
     "text": [
      "------zeros_arr-------\n",
      "[[0. 0. 0. 0.]\n",
      " [0. 0. 0. 0.]\n",
      " [0. 0. 0. 0.]]\n",
      "\n",
      "------ones_arr-------\n",
      "[[1. 1. 1.]\n",
      " [1. 1. 1.]]\n"
     ]
    }
   ],
   "source": [
    "# np.zeros\n",
    "zeros_arr = np.zeros((3, 4))\n",
    "\n",
    "# np.ones\n",
    "ones_arr = np.ones((2, 3))\n",
    "\n",
    "\n",
    "print('------zeros_arr-------')\n",
    "print(zeros_arr)\n",
    "\n",
    "print('\\n------ones_arr-------')\n",
    "print(ones_arr)"
   ]
  },
  {
   "cell_type": "markdown",
   "metadata": {},
   "source": [
    "#### 4. np.arange()\n",
    "\n",
    "> arange() 类似 python 的 range() ，用来创建一个一维 ndarray 数组，结果等同于 np.array(range())。"
   ]
  },
  {
   "cell_type": "code",
   "execution_count": 10,
   "metadata": {},
   "outputs": [
    {
     "name": "stdout",
     "output_type": "stream",
     "text": [
      "[ 0  1  2  3  4  5  6  7  8  9 10 11 12 13 14]\n",
      "[10 12 14 16 18]\n"
     ]
    }
   ],
   "source": [
    "# np.arange()\n",
    "arr = np.arange(15) # 0 ~ 14、共15个元素的 一维数组\n",
    "print(arr)\n",
    "\n",
    "arr = np.arange(10, 20, 2) # 10 ~ 19、步长为2、共5个元素的一维数组\n",
    "print(arr)"
   ]
  },
  {
   "cell_type": "markdown",
   "metadata": {},
   "source": [
    "#### 5. reshape()\n",
    "\n",
    "> reshape() 将 重新调整数组的维度。"
   ]
  },
  {
   "cell_type": "code",
   "execution_count": 11,
   "metadata": {},
   "outputs": [
    {
     "name": "stdout",
     "output_type": "stream",
     "text": [
      "[[ 0  1  2  3  4]\n",
      " [ 5  6  7  8  9]\n",
      " [10 11 12 13 14]]\n"
     ]
    }
   ],
   "source": [
    "arr = np.arange(15)\n",
    "print(arr.reshape(3, 5)) # 3x5个元素的 二维数组"
   ]
  },
  {
   "cell_type": "markdown",
   "metadata": {},
   "source": [
    "#### 6. random.shuffle()\n",
    "\n",
    "> random.shuffle() 将打乱数组序列（随机重新排列）。"
   ]
  },
  {
   "cell_type": "code",
   "execution_count": 12,
   "metadata": {},
   "outputs": [
    {
     "name": "stdout",
     "output_type": "stream",
     "text": [
      "[ 0  1  2  3  4  5  6  7  8  9 10 11 12 13 14]\n",
      "[13  6 10  1 14 12 11  5  8  2  7  9  3  4  0]\n"
     ]
    }
   ],
   "source": [
    "arr = np.arange(15)\n",
    "print(arr)\n",
    "\n",
    "np.random.shuffle(arr)\n",
    "print(arr)"
   ]
  },
  {
   "cell_type": "markdown",
   "metadata": {},
   "source": [
    "## 4.2 ndarray的数据类型\n",
    "\n",
    "通过ndarray的dtype来打印数组中元素的类型，ndarray常见的数据类型如下：\n",
    "\n",
    "```\n",
    "类型\t类型代码\t说明\n",
    "int8、uint8\ti1、u1\t有符号和无符号的8位(1个字节长度)整型\n",
    "int16、uint16\ti2、u2\t有符号和无符号的16位(2个字节长度)整型\n",
    "int32、uint32\ti4、u4\t有符号和无符号的32位(4个字节长度)整型\n",
    "float16\tf2\t半精度浮点数\n",
    "float32\tf4或f\t标准单精度浮点数\n",
    "float64\tf8或d\t双精度浮点数\n",
    "bool\t?\t布尔类型\n",
    "object\tO\tPython对象类型\n",
    "unicode\t<U1或U\t固定长度的unicode类型，跟字符串定义方式一样\n",
    "```"
   ]
  },
  {
   "cell_type": "markdown",
   "metadata": {},
   "source": [
    "#### 1. dtype参数\n",
    "\n",
    "> 指定数组的数据类型，类型名+位数，如float64, int32"
   ]
  },
  {
   "cell_type": "code",
   "execution_count": 13,
   "metadata": {},
   "outputs": [
    {
     "name": "stdout",
     "output_type": "stream",
     "text": [
      "[1. 2. 3. 4.]\n",
      "float64\n"
     ]
    }
   ],
   "source": [
    "# 创建一个ndarray，并将数据类型转为float64\n",
    "float_arr = np.array([1, 2, 3, 4], dtype = np.float64)\n",
    "\n",
    "print(float_arr)\n",
    "\n",
    "print(float_arr.dtype)"
   ]
  },
  {
   "cell_type": "markdown",
   "metadata": {},
   "source": [
    "#### 2. astype方法\n",
    "\n",
    "> 转换数组的数据类型"
   ]
  },
  {
   "cell_type": "code",
   "execution_count": 14,
   "metadata": {},
   "outputs": [
    {
     "name": "stdout",
     "output_type": "stream",
     "text": [
      "[1 2 3 4]\n",
      "int32\n"
     ]
    }
   ],
   "source": [
    "# astype转换数据类型，将已有的数组的数据类型转换为int32\n",
    "int_arr = float_arr.astype(np.int32)\n",
    "\n",
    "print(int_arr)\n",
    "\n",
    "print(int_arr.dtype)"
   ]
  },
  {
   "cell_type": "markdown",
   "metadata": {},
   "source": [
    "## 4.3 ndarray的矩阵运算\n",
    "\n",
    "> 矩阵、标量、向量/矢量是数学概念，数组是编程中的概念。\n",
    "\n",
    "> 在计算机编程中，矩阵可以用数组形式表示，标量可以用数值表示，向量/矢量可以用数据结构表示。\n",
    "\n",
    "> 向量化/矢量化：就是将自然数据，转化为计算机可以处理的数据结构。"
   ]
  },
  {
   "cell_type": "code",
   "execution_count": 15,
   "metadata": {},
   "outputs": [
    {
     "name": "stdout",
     "output_type": "stream",
     "text": [
      "[ 10  40  90 160 250]\n",
      "[11 22 33 44 55]\n"
     ]
    }
   ],
   "source": [
    "arr1 = np.array([1, 2, 3, 4, 5])\n",
    "arr2 = np.array([10, 20, 30, 40, 50])\n",
    "\n",
    "# 1. 数组和数组之间的运算\n",
    "print(arr1 * arr2)\n",
    "print(arr1 + arr2)"
   ]
  },
  {
   "cell_type": "code",
   "execution_count": 16,
   "metadata": {},
   "outputs": [
    {
     "name": "stdout",
     "output_type": "stream",
     "text": [
      "[101 102 103 104 105]\n",
      "[ 2.  4.  6.  8. 10.]\n"
     ]
    }
   ],
   "source": [
    "# 2. 数组和数字之间的运算\n",
    "print(arr1 + 100)\n",
    "print(arr2 / 5)"
   ]
  },
  {
   "cell_type": "code",
   "execution_count": 17,
   "metadata": {},
   "outputs": [
    {
     "name": "stdout",
     "output_type": "stream",
     "text": [
      "[[0 1 2]\n",
      " [3 4 5]\n",
      " [6 7 8]]\n",
      "[[0 1 2]\n",
      " [3 4 5]\n",
      " [6 7 8]]\n",
      "[[ 0  2  4]\n",
      " [ 6  8 10]\n",
      " [12 14 16]]\n"
     ]
    }
   ],
   "source": [
    "# 3. 多维数组和多维数组之间的运算\n",
    "arr3 = np.arange(9).reshape((3, 3))\n",
    "arr4 = np.arange(9).reshape((3, 3))\n",
    "\n",
    "print(arr3)\n",
    "print(arr4)\n",
    "print(arr3 + arr4)"
   ]
  },
  {
   "cell_type": "code",
   "execution_count": 18,
   "metadata": {},
   "outputs": [
    {
     "name": "stdout",
     "output_type": "stream",
     "text": [
      "[0 1 2 3 4]\n",
      "[[0 1 2 3 4]\n",
      " [5 6 7 8 9]]\n",
      "[[ 0  2  4  6  8]\n",
      " [ 5  7  9 11 13]]\n"
     ]
    }
   ],
   "source": [
    "# 4. 一维数组和多维数组之间运算\n",
    "arr5 = np.arange(5)\n",
    "print(arr5)\n",
    "\n",
    "arr6 = np.arange(10).reshape((2, 5))\n",
    "print(arr6)\n",
    "\n",
    "print(arr5 + arr6)"
   ]
  },
  {
   "cell_type": "markdown",
   "metadata": {},
   "source": [
    "## 4.4 ndarray的索引与切片\n",
    "\n",
    "### 1. 一维数组的索引与切片\n",
    "\n",
    "> 与Python的列表索引功能相似"
   ]
  },
  {
   "cell_type": "code",
   "execution_count": 19,
   "metadata": {},
   "outputs": [
    {
     "name": "stdout",
     "output_type": "stream",
     "text": [
      "[0 1 2 3 4 5 6 7 8 9]\n",
      "[2 3 4]\n"
     ]
    }
   ],
   "source": [
    "# 一维数组\n",
    "arr1 = np.arange(10)\n",
    "print(arr1)\n",
    "print(arr1[2:5])"
   ]
  },
  {
   "cell_type": "markdown",
   "metadata": {},
   "source": [
    "### 2. 多维数组的索引与切片：\n",
    "\n",
    "arr[r1:r2, c1:c2]\n",
    "\n",
    "arr[1, 1] 等价 arr[1][1]\n",
    "\n",
    "[ : ] 代表某个维度的数据"
   ]
  },
  {
   "cell_type": "code",
   "execution_count": 20,
   "metadata": {},
   "outputs": [
    {
     "name": "stdout",
     "output_type": "stream",
     "text": [
      "[[ 0  1  2  3]\n",
      " [ 4  5  6  7]\n",
      " [ 8  9 10 11]]\n"
     ]
    }
   ],
   "source": [
    "# 多维数组\n",
    "arr2 = np.arange(12).reshape(3,4)\n",
    "print(arr2)"
   ]
  },
  {
   "cell_type": "code",
   "execution_count": 21,
   "metadata": {},
   "outputs": [
    {
     "name": "stdout",
     "output_type": "stream",
     "text": [
      "[4 5 6 7]\n"
     ]
    }
   ],
   "source": [
    "# 行下标为1\n",
    "print( arr2[1] )"
   ]
  },
  {
   "cell_type": "code",
   "execution_count": 22,
   "metadata": {},
   "outputs": [
    {
     "name": "stdout",
     "output_type": "stream",
     "text": [
      "6\n"
     ]
    }
   ],
   "source": [
    "# 行下标为1 的 列下标为2 的数据\n",
    "print( arr2[1, 2] )"
   ]
  },
  {
   "cell_type": "code",
   "execution_count": 23,
   "metadata": {},
   "outputs": [
    {
     "name": "stdout",
     "output_type": "stream",
     "text": [
      "[[ 1  2]\n",
      " [ 5  6]\n",
      " [ 9 10]]\n"
     ]
    }
   ],
   "source": [
    "# 所有行 的 列下标为1~3 的数据\n",
    "print( arr2[:, 1:3] )"
   ]
  },
  {
   "cell_type": "code",
   "execution_count": 24,
   "metadata": {},
   "outputs": [
    {
     "name": "stdout",
     "output_type": "stream",
     "text": [
      "[[2 3]\n",
      " [6 7]]\n"
     ]
    }
   ],
   "source": [
    "# 行下标0~1 的 列下标2~最后 的数据\n",
    "print( arr2[0:2, 2:] )"
   ]
  },
  {
   "cell_type": "code",
   "execution_count": 25,
   "metadata": {},
   "outputs": [
    {
     "name": "stdout",
     "output_type": "stream",
     "text": [
      "[ 3  7 11]\n"
     ]
    }
   ],
   "source": [
    "# 所有行 的 列下标为3 的数据\n",
    "print( arr2[:, 3] )"
   ]
  },
  {
   "cell_type": "code",
   "execution_count": 26,
   "metadata": {},
   "outputs": [
    {
     "name": "stdout",
     "output_type": "stream",
     "text": [
      "[[ 0  1  2  3]\n",
      " [ 8  9 10 11]]\n"
     ]
    }
   ],
   "source": [
    "# 选取特定的子集,参数为列表\n",
    "\n",
    "# 行下标为0和2 的数据\n",
    "print( arr2[[0, 2]] )"
   ]
  },
  {
   "cell_type": "code",
   "execution_count": 27,
   "metadata": {},
   "outputs": [
    {
     "name": "stdout",
     "output_type": "stream",
     "text": [
      "[ 1 10]\n"
     ]
    }
   ],
   "source": [
    "# 行下标为0 的 列下标为1 的数据，和 行下标为-1 的 列下标为2 的数据\n",
    "print( arr2[[0, -1], [1, 2]] )"
   ]
  },
  {
   "cell_type": "code",
   "execution_count": 28,
   "metadata": {},
   "outputs": [
    {
     "name": "stdout",
     "output_type": "stream",
     "text": [
      "[[5 6]]\n"
     ]
    }
   ],
   "source": [
    "# 先取行下标为0和1 的数据，再取结果中行下标为1~最后 的 列下标为1~3的数据\n",
    "print( arr2[[0, 1]][1:, 1:3] )"
   ]
  },
  {
   "cell_type": "markdown",
   "metadata": {},
   "source": [
    "### 3. 条件索引\n",
    "\n",
    "> 布尔值多维数组：arr[condition]，condition也可以是多个条件组合。\n",
    "\n",
    "> 条件索引将返回一个一维数组\n",
    "\n",
    "> 注意，多个条件组合要使用 & | ~ 连接，而不是Python的 and or not。"
   ]
  },
  {
   "cell_type": "code",
   "execution_count": 29,
   "metadata": {},
   "outputs": [
    {
     "name": "stdout",
     "output_type": "stream",
     "text": [
      "[[False False False]\n",
      " [False False  True]\n",
      " [ True  True  True]] bool\n"
     ]
    }
   ],
   "source": [
    "# 条件索引\n",
    "\n",
    "year_arr = np.array([[2010, 2011, 2012],\n",
    "                     [2013, 2014, 2015],\n",
    "                     [2016, 2017, 2018]])\n",
    "\n",
    "is_year_after_2015 = year_arr >= 2015\n",
    "print(is_year_after_2015, is_year_after_2015.dtype)"
   ]
  },
  {
   "cell_type": "code",
   "execution_count": 30,
   "metadata": {},
   "outputs": [
    {
     "name": "stdout",
     "output_type": "stream",
     "text": [
      "[2015 2016 2017 2018]\n"
     ]
    }
   ],
   "source": [
    "# 将bool索引应用到数组上，将返回bool值为True的数据\n",
    "filtered_arr = year_arr[is_year_after_2015]\n",
    "print(filtered_arr)"
   ]
  },
  {
   "cell_type": "code",
   "execution_count": 31,
   "metadata": {},
   "outputs": [
    {
     "name": "stdout",
     "output_type": "stream",
     "text": [
      "[2010 2011 2012 2013 2014 2015 2016 2017 2018]\n"
     ]
    }
   ],
   "source": [
    "# 上述代码简写形式\n",
    "filtered_arr = year_arr[year_arr >= 2005]\n",
    "print(filtered_arr)"
   ]
  },
  {
   "cell_type": "code",
   "execution_count": 32,
   "metadata": {},
   "outputs": [
    {
     "name": "stdout",
     "output_type": "stream",
     "text": [
      "[2010 2011 2012 2013 2014]\n"
     ]
    }
   ],
   "source": [
    "# ~ 对条件取反\n",
    "print(year_arr[~(year_arr >= 2015)])"
   ]
  },
  {
   "cell_type": "code",
   "execution_count": 33,
   "metadata": {},
   "outputs": [
    {
     "name": "stdout",
     "output_type": "stream",
     "text": [
      "[2010 2012 2014]\n"
     ]
    }
   ],
   "source": [
    "# 多个条件 通过 & 和 | 来表示 与和或\n",
    "filtered_arr = year_arr[(year_arr <= 2015) & (year_arr % 2 == 0)]\n",
    "print(filtered_arr)"
   ]
  },
  {
   "cell_type": "markdown",
   "metadata": {},
   "source": [
    "## 4.5 ndarray的ufunc\n",
    "\n",
    "- ufunc是universal function（通用函数）的缩写，是一种对ndarray中的数据执行元素级的运算。既可以对单个数值操作，也可以对数组的每个元素进行操作的函数（支持广播运算）。\n",
    "\n",
    "- NumPy内置的许多ufunc函数都是在C语言实现的，因此它们的计算速度非常快，我们可以将其看做是简单的函数(接收一个或多个参数，返回一个或者多个返回值)。"
   ]
  },
  {
   "cell_type": "markdown",
   "metadata": {},
   "source": [
    "### 常用的元素计算函数\n",
    "\n",
    "#### 一元ufunc：\n",
    "\n",
    "> 1. ceil(x): 向上最接近的整数，参数是 number 或 ndarray\n",
    "> 2. floor(x): 向下最接近的整数，参数是 number 或 ndarray\n",
    "> 3. rint(x): 四舍五入，参数是 number 或 ndarray\n",
    "> 4. negative(x): 元素取反，参数是 number 或 ndarray\n",
    "> 5. abs(x)：元素的绝对值，参数是 number 或 ndarray\n",
    "> 6. square(x)：元素的平方，参数是 number 或 ndarray\n",
    "> 7. aqrt(x)：元素的平方根，参数是 number 或 ndarray\n",
    "> 8. sign(x)：计算各元素的正负号, 1(正数)、0（零）、-1(负数)，参数是 number 或 ndarray\n",
    "> 9. modf(x)：将数组的小数和整数部分以两个独立数组的形式返回，参数是 number 或 ndarray\n",
    "> 10. isnan(x): 判断元素是否为 NaN(Not a Number)，返回bool，参数是 number 或 ndarray\n",
    "\n",
    "#### 二元ufunc：\n",
    "\n",
    "> 1. add(x, y): 元素相加，x + y，参数是 number 或 ndarray\n",
    "> 2. subtract(x, y): 元素相减，x - y，参数是 number 或 ndarray\n",
    "> 3. multiply(x, y): 元素相乘，x * y，参数是 number 或 ndarray\n",
    "> 4. divide(x, y): 元素相除，x / y，参数是 number 或 ndarray\n",
    "> 5. floor_divide(x, y): 元素相除取整数商(丢弃余数)，x // y，参数是 number 或 ndarray\n",
    "> 6. mod(x, y): 元素求余数，x % y，参数是 number 或 array\n",
    "> 7. power(x, y): 元素求次方，x ** y，参数是 number 或 array\n",
    "\n",
    "#### 三元ufunc：\n",
    "\n",
    "> where(condition, x, y): 三元运算符，x if condition else y，条件满足返回x，否则返回y，参数condition 是条件语句，参数 x 和 y 是 number 或 ndarray"
   ]
  },
  {
   "cell_type": "code",
   "execution_count": 34,
   "metadata": {},
   "outputs": [
    {
     "name": "stdout",
     "output_type": "stream",
     "text": [
      "[23  7  8  7  8  3  4 -2  7 27]\n"
     ]
    }
   ],
   "source": [
    "# 创建两个数组\n",
    "arr1 = np.array([16, 7, 8, 2, 8, 3, 4, -5, 4, 27])\n",
    "arr2 = np.array([23, 5, 3, 7, 2, 1, 2, -2, 7, 14])\n",
    "\n",
    "# 已知有两个数组，依次对比两个数组中对应下标位置的值，取出大的值，组成新的数组.\n",
    "# 按下标依次迭代arr1和arr2两个数组的每个元素，并比较元素大小，如果结果为True，返回当前arr1的元素，否则返回当前arr2的元素，并将结果构建为一个数组。\n",
    "arr3 = np.where(arr1 > arr2, arr1, arr2)\n",
    "print(arr3)"
   ]
  },
  {
   "cell_type": "markdown",
   "metadata": {},
   "source": [
    "### 常用的元素统计函数\n",
    "\n",
    "多维数组默认统计全部数据，添加axis参数可以按指定轴心统计，值为0则按列统计，值为1则按行统计。\n",
    "\n",
    "> 1. np.mean(x [, axis])：所有元素的平均值，参数是 number 或 ndarray\n",
    "> 2. np.sum(x [, axis])：所有元素的和，参数是 number 或 ndarray\n",
    "> 3. np.max(x [, axis])：所有元素的最大值，参数是 number 或 ndarray\n",
    "> 4. np.min(x [, axis])：所有元素的最小值，参数是 number 或 ndarray\n",
    "> 5. np.std(x [, axis])：所有元素的标准差，参数是 number 或 ndarray\n",
    "> 6. np.var(x [, axis])：所有元素的方差，参数是 number 或 ndarray\n",
    "> 7. np.argmax(x [, axis])：最大值的下标索引值，参数是 number 或 ndarray\n",
    "> 8. np.argmin(x [, axis])：最小值的下标索引值，参数是 number 或 ndarray\n",
    "> 9. np.cumsum(x [, axis])：返回一个一维数组，每个元素都是之前所有元素的 累加和，参数是 number 或 ndarray\n",
    "> 10. np.cumprod(x [, axis])：返回一个一维数组，每个元素都是之前所有元素的 累乘积，参数是 number 或 ndarray"
   ]
  },
  {
   "cell_type": "markdown",
   "metadata": {},
   "source": [
    "### ndarray支持常用的增加和删除操作，以及数组合并。\n",
    "\n",
    "> 1. append()：在数组后面追加元素\n",
    "> 2. insert()：在指定下标插入元素\n",
    "> 3. delete()：删除指定行/列数据\n",
    "> 4. concatenate((arr1, arr2, ...), axis=0)：合并多个数组"
   ]
  },
  {
   "cell_type": "code",
   "execution_count": 35,
   "metadata": {},
   "outputs": [],
   "source": [
    "#  4列 的 一维数组\n",
    "arr1 = np.arange(4)\n",
    "arr2 = np.arange(4)\n",
    "\n",
    "# 3行4列 的 二维数组\n",
    "arr3 = np.arange(12).reshape((3, 4))"
   ]
  },
  {
   "cell_type": "markdown",
   "metadata": {},
   "source": [
    "#### 1. append数组中追加元素\n",
    "\n",
    "注意：append总是返回一维数组"
   ]
  },
  {
   "cell_type": "code",
   "execution_count": 36,
   "metadata": {},
   "outputs": [
    {
     "name": "stdout",
     "output_type": "stream",
     "text": [
      "[0 1 2 3]\n"
     ]
    }
   ],
   "source": [
    "print(arr1)"
   ]
  },
  {
   "cell_type": "code",
   "execution_count": 37,
   "metadata": {},
   "outputs": [
    {
     "data": {
      "text/plain": [
       "array([  0,   1,   2,   3, 100])"
      ]
     },
     "execution_count": 37,
     "metadata": {},
     "output_type": "execute_result"
    }
   ],
   "source": [
    "# 数组追加一个数值元素\n",
    "np.append(arr1, 100)"
   ]
  },
  {
   "cell_type": "code",
   "execution_count": 38,
   "metadata": {},
   "outputs": [
    {
     "name": "stdout",
     "output_type": "stream",
     "text": [
      "[0 1 2 3]\n"
     ]
    }
   ],
   "source": [
    "# 在一维数组后追加一维数组\n",
    "print(arr2)"
   ]
  },
  {
   "cell_type": "code",
   "execution_count": 39,
   "metadata": {},
   "outputs": [
    {
     "data": {
      "text/plain": [
       "array([0, 1, 2, 3, 0, 1, 2, 3])"
      ]
     },
     "execution_count": 39,
     "metadata": {},
     "output_type": "execute_result"
    }
   ],
   "source": [
    "np.append(arr1, arr2)"
   ]
  },
  {
   "cell_type": "code",
   "execution_count": 40,
   "metadata": {},
   "outputs": [
    {
     "name": "stdout",
     "output_type": "stream",
     "text": [
      "[[ 0  1  2  3]\n",
      " [ 4  5  6  7]\n",
      " [ 8  9 10 11]]\n"
     ]
    }
   ],
   "source": [
    "# 在多维数组后追加标量元素\n",
    "print(arr3)"
   ]
  },
  {
   "cell_type": "code",
   "execution_count": 41,
   "metadata": {},
   "outputs": [
    {
     "data": {
      "text/plain": [
       "array([  0,   1,   2,   3,   4,   5,   6,   7,   8,   9,  10,  11, 100])"
      ]
     },
     "execution_count": 41,
     "metadata": {},
     "output_type": "execute_result"
    }
   ],
   "source": [
    "np.append(arr3, 100)"
   ]
  },
  {
   "cell_type": "code",
   "execution_count": 42,
   "metadata": {},
   "outputs": [
    {
     "data": {
      "text/plain": [
       "array([ 0,  1,  2,  3,  0,  1,  2,  3,  4,  5,  6,  7,  8,  9, 10, 11])"
      ]
     },
     "execution_count": 42,
     "metadata": {},
     "output_type": "execute_result"
    }
   ],
   "source": [
    "# 在一维数组后追加多维数组\n",
    "np.append(arr1, arr3)"
   ]
  },
  {
   "cell_type": "markdown",
   "metadata": {},
   "source": [
    "#### 2. insert插入元素"
   ]
  },
  {
   "cell_type": "code",
   "execution_count": 43,
   "metadata": {},
   "outputs": [
    {
     "name": "stdout",
     "output_type": "stream",
     "text": [
      "[0 1 2 3]\n"
     ]
    }
   ],
   "source": [
    "# 一维数组插入元素\n",
    "print(arr1)"
   ]
  },
  {
   "cell_type": "code",
   "execution_count": 44,
   "metadata": {},
   "outputs": [
    {
     "data": {
      "text/plain": [
       "array([  0, 100,   1,   2,   3])"
      ]
     },
     "execution_count": 44,
     "metadata": {},
     "output_type": "execute_result"
    }
   ],
   "source": [
    "# 在下标为2位置插入元素100\n",
    "np.insert(arr1, 1, 100)"
   ]
  },
  {
   "cell_type": "code",
   "execution_count": 45,
   "metadata": {},
   "outputs": [
    {
     "data": {
      "text/plain": [
       "array([ 0,  1, 10, 20,  2,  3])"
      ]
     },
     "execution_count": 45,
     "metadata": {},
     "output_type": "execute_result"
    }
   ],
   "source": [
    "# 在在下标为2位置插入两个元素10、20\n",
    "np.insert(arr1, 2, [10, 20])"
   ]
  },
  {
   "cell_type": "code",
   "execution_count": 46,
   "metadata": {},
   "outputs": [
    {
     "name": "stdout",
     "output_type": "stream",
     "text": [
      "[[ 0  1  2  3]\n",
      " [ 4  5  6  7]\n",
      " [ 8  9 10 11]]\n"
     ]
    }
   ],
   "source": [
    "# 多维数组插入元素\n",
    "print(arr3)"
   ]
  },
  {
   "cell_type": "code",
   "execution_count": 47,
   "metadata": {},
   "outputs": [
    {
     "data": {
      "text/plain": [
       "array([[  0,   1,   2,   3],\n",
       "       [100, 200, 300, 400],\n",
       "       [  4,   5,   6,   7],\n",
       "       [  8,   9,  10,  11]])"
      ]
     },
     "execution_count": 47,
     "metadata": {},
     "output_type": "execute_result"
    }
   ],
   "source": [
    "# 在第2行插入一行元素\n",
    "np.insert(arr3, 1, np.array([100, 200, 300, 400]), axis=0)"
   ]
  },
  {
   "cell_type": "code",
   "execution_count": 48,
   "metadata": {},
   "outputs": [
    {
     "data": {
      "text/plain": [
       "array([[  0,   1, 100,   2,   3],\n",
       "       [  4,   5, 200,   6,   7],\n",
       "       [  8,   9, 300,  10,  11]])"
      ]
     },
     "execution_count": 48,
     "metadata": {},
     "output_type": "execute_result"
    }
   ],
   "source": [
    "# 在第3列插入一列元素\n",
    "np.insert(arr3, 2, np.array([100, 200, 300]), axis=1)"
   ]
  },
  {
   "cell_type": "markdown",
   "metadata": {},
   "source": [
    "#### 3. delete删除一行或者一列数组元素\n",
    "\n",
    "> 为了保证数组结构完整性，多维ndarray不能删除单个元素"
   ]
  },
  {
   "cell_type": "code",
   "execution_count": 49,
   "metadata": {},
   "outputs": [
    {
     "name": "stdout",
     "output_type": "stream",
     "text": [
      "[[ 0  1  2  3]\n",
      " [ 4  5  6  7]\n",
      " [ 8  9 10 11]]\n"
     ]
    }
   ],
   "source": [
    "print(arr3)"
   ]
  },
  {
   "cell_type": "code",
   "execution_count": 50,
   "metadata": {},
   "outputs": [
    {
     "data": {
      "text/plain": [
       "array([[ 4,  5,  6,  7],\n",
       "       [ 8,  9, 10, 11]])"
      ]
     },
     "execution_count": 50,
     "metadata": {},
     "output_type": "execute_result"
    }
   ],
   "source": [
    "# 删除第0行元素\n",
    "np.delete(arr3, 0, axis=0)"
   ]
  },
  {
   "cell_type": "code",
   "execution_count": 51,
   "metadata": {},
   "outputs": [
    {
     "data": {
      "text/plain": [
       "array([[ 0,  2,  3],\n",
       "       [ 4,  6,  7],\n",
       "       [ 8, 10, 11]])"
      ]
     },
     "execution_count": 51,
     "metadata": {},
     "output_type": "execute_result"
    }
   ],
   "source": [
    "# 删除第2列元素\n",
    "np.delete(arr3, 1, axis=1)"
   ]
  },
  {
   "cell_type": "code",
   "execution_count": 52,
   "metadata": {},
   "outputs": [
    {
     "data": {
      "text/plain": [
       "array([[1],\n",
       "       [5],\n",
       "       [9]])"
      ]
     },
     "execution_count": 52,
     "metadata": {},
     "output_type": "execute_result"
    }
   ],
   "source": [
    "# 删除第0、2、3列元素\n",
    "np.delete(arr3, [0, 2, 3], axis=1)"
   ]
  },
  {
   "cell_type": "markdown",
   "metadata": {},
   "source": [
    "#### 4. concatenate合并两个数组元素\n",
    "\n",
    "> 注意：合并的两个数组必须维度相同。"
   ]
  },
  {
   "cell_type": "code",
   "execution_count": 53,
   "metadata": {},
   "outputs": [
    {
     "data": {
      "text/plain": [
       "array([[ 0,  1,  2,  3],\n",
       "       [ 4,  5,  6,  7],\n",
       "       [ 8,  9, 10, 11]])"
      ]
     },
     "execution_count": 53,
     "metadata": {},
     "output_type": "execute_result"
    }
   ],
   "source": [
    "arr4 = np.arange(12).reshape((3, 4))\n",
    "arr4"
   ]
  },
  {
   "cell_type": "code",
   "execution_count": 54,
   "metadata": {},
   "outputs": [
    {
     "data": {
      "text/plain": [
       "array([0, 1, 2, 3, 0, 1, 2, 3])"
      ]
     },
     "execution_count": 54,
     "metadata": {},
     "output_type": "execute_result"
    }
   ],
   "source": [
    "# 合并两个一维数组\n",
    "np.concatenate((arr1, arr2))"
   ]
  },
  {
   "cell_type": "code",
   "execution_count": 55,
   "metadata": {},
   "outputs": [
    {
     "data": {
      "text/plain": [
       "array([[ 0,  1,  2,  3],\n",
       "       [ 4,  5,  6,  7],\n",
       "       [ 8,  9, 10, 11],\n",
       "       [ 0,  1,  2,  3],\n",
       "       [ 4,  5,  6,  7],\n",
       "       [ 8,  9, 10, 11]])"
      ]
     },
     "execution_count": 55,
     "metadata": {},
     "output_type": "execute_result"
    }
   ],
   "source": [
    "# 按列合并合并两个二维数组\n",
    "np.concatenate((arr3, arr4), axis=0)"
   ]
  },
  {
   "cell_type": "code",
   "execution_count": 56,
   "metadata": {},
   "outputs": [
    {
     "data": {
      "text/plain": [
       "array([[ 0,  1,  2,  3,  0,  1,  2,  3],\n",
       "       [ 4,  5,  6,  7,  4,  5,  6,  7],\n",
       "       [ 8,  9, 10, 11,  8,  9, 10, 11]])"
      ]
     },
     "execution_count": 56,
     "metadata": {},
     "output_type": "execute_result"
    }
   ],
   "source": [
    "# 按行合并两个二维数组\n",
    "np.concatenate((arr3, arr4), axis=1)"
   ]
  },
  {
   "cell_type": "markdown",
   "metadata": {},
   "source": [
    "### ndarray数组排序函数\n",
    "\n",
    "> 注意：ndarray.sort()在原数组上进行排序，np.sort()将返回排序后的新数组，原数组不变。"
   ]
  },
  {
   "cell_type": "code",
   "execution_count": 57,
   "metadata": {},
   "outputs": [
    {
     "data": {
      "text/plain": [
       "array([[6, 2, 6, 3, 1]])"
      ]
     },
     "execution_count": 57,
     "metadata": {},
     "output_type": "execute_result"
    }
   ],
   "source": [
    "## 1. 对一维数组排序\n",
    "\n",
    "arr1 = np.random.randint(1, 10, (1, 5))\n",
    "arr1"
   ]
  },
  {
   "cell_type": "code",
   "execution_count": 58,
   "metadata": {},
   "outputs": [
    {
     "data": {
      "text/plain": [
       "array([[1, 2, 3, 6, 6]])"
      ]
     },
     "execution_count": 58,
     "metadata": {},
     "output_type": "execute_result"
    }
   ],
   "source": [
    "arr1.sort()\n",
    "arr1"
   ]
  },
  {
   "cell_type": "code",
   "execution_count": 59,
   "metadata": {},
   "outputs": [
    {
     "data": {
      "text/plain": [
       "array([[5, 6, 2, 8, 2],\n",
       "       [2, 7, 2, 4, 5],\n",
       "       [1, 7, 9, 4, 9],\n",
       "       [1, 8, 9, 8, 1],\n",
       "       [7, 5, 4, 5, 5]])"
      ]
     },
     "execution_count": 59,
     "metadata": {},
     "output_type": "execute_result"
    }
   ],
   "source": [
    "## 2. 对二维数组排序\n",
    "arr2 = np.random.randint(1, 10, (5, 5))\n",
    "arr2"
   ]
  },
  {
   "cell_type": "code",
   "execution_count": 60,
   "metadata": {},
   "outputs": [
    {
     "data": {
      "text/plain": [
       "array([[2, 2, 5, 6, 8],\n",
       "       [2, 2, 4, 5, 7],\n",
       "       [1, 4, 7, 9, 9],\n",
       "       [1, 1, 8, 8, 9],\n",
       "       [4, 5, 5, 5, 7]])"
      ]
     },
     "execution_count": 60,
     "metadata": {},
     "output_type": "execute_result"
    }
   ],
   "source": [
    "# 对每行数据进行排序\n",
    "arr2.sort()  \n",
    "arr2"
   ]
  },
  {
   "cell_type": "code",
   "execution_count": 61,
   "metadata": {},
   "outputs": [
    {
     "data": {
      "text/plain": [
       "array([[1, 1, 4, 5, 7],\n",
       "       [1, 2, 5, 5, 7],\n",
       "       [2, 2, 5, 6, 8],\n",
       "       [2, 4, 7, 8, 9],\n",
       "       [4, 5, 8, 9, 9]])"
      ]
     },
     "execution_count": 61,
     "metadata": {},
     "output_type": "execute_result"
    }
   ],
   "source": [
    "# axis = 0，指定对每列数据进行排序\n",
    "arr2.sort(axis=0)  \n",
    "arr2"
   ]
  },
  {
   "cell_type": "code",
   "execution_count": 62,
   "metadata": {},
   "outputs": [
    {
     "data": {
      "text/plain": [
       "array([[1, 1, 4, 5, 7],\n",
       "       [1, 2, 5, 5, 7],\n",
       "       [2, 2, 5, 6, 8],\n",
       "       [2, 4, 7, 8, 9],\n",
       "       [4, 5, 8, 9, 9]])"
      ]
     },
     "execution_count": 62,
     "metadata": {},
     "output_type": "execute_result"
    }
   ],
   "source": [
    "## 3. np.sort() 返回排序后的新数组\n",
    "arr3 = np.sort(arr2)  # 源数据不变\n",
    "arr3"
   ]
  },
  {
   "cell_type": "markdown",
   "metadata": {},
   "source": [
    "## 4.6 NumPy的文件读写\n",
    "\n",
    "### 1. save() 和 load()\n",
    "\n",
    "> NumPy中的np.save和np.load是读写磁盘数组数据的两个主要函数。默认情况下，数组是以原始二进制格式保存在扩展名为.npy的文件中。如果在保存文件时没有指定扩展名.npy，则该扩展名会被自动加上。\n",
    "\n",
    "通过np.savez可以将多个数组保存到同一个文件中，将数组以关键字参数的形式传入即可。\n",
    "\n",
    "例如: np.savez(‘myarr.npz’, a=arr1, b=arr2) 加载文件的时候，我们会得到一个类似字典的对象。"
   ]
  },
  {
   "cell_type": "code",
   "execution_count": 63,
   "metadata": {},
   "outputs": [
    {
     "data": {
      "text/plain": [
       "array([[12, 20,  4, 14,  3, 39],\n",
       "       [30, 20, 19, 12,  2, 36],\n",
       "       [22, 39, 30, 24, 46,  4],\n",
       "       [26, 46, 20, 42, 45, 25],\n",
       "       [39, 14, 36, 35,  8, 36]])"
      ]
     },
     "execution_count": 63,
     "metadata": {},
     "output_type": "execute_result"
    }
   ],
   "source": [
    "arr1 = np.random.randint(1, 50, (5, 6))\n",
    "arr1"
   ]
  },
  {
   "cell_type": "code",
   "execution_count": 64,
   "metadata": {},
   "outputs": [],
   "source": [
    "### 1. save() \n",
    "# 将单个数组写入到文件中，默认后缀为 .npy\n",
    "np.save('arr1', arr1)"
   ]
  },
  {
   "cell_type": "code",
   "execution_count": 65,
   "metadata": {},
   "outputs": [
    {
     "data": {
      "text/plain": [
       "array([[12, 20,  4, 14,  3, 39],\n",
       "       [30, 20, 19, 12,  2, 36],\n",
       "       [22, 39, 30, 24, 46,  4],\n",
       "       [26, 46, 20, 42, 45, 25],\n",
       "       [39, 14, 36, 35,  8, 36]])"
      ]
     },
     "execution_count": 65,
     "metadata": {},
     "output_type": "execute_result"
    }
   ],
   "source": [
    "# 从文件中读取数组\n",
    "arr2 = np.load('arr1.npy')\n",
    "arr2"
   ]
  },
  {
   "cell_type": "code",
   "execution_count": 66,
   "metadata": {},
   "outputs": [
    {
     "data": {
      "text/plain": [
       "array([[38, 31, 27, 11, 25, 37,  4, 39],\n",
       "       [29, 33, 32, 13, 32,  9, 42,  7],\n",
       "       [43, 46, 35, 25, 28,  7, 37, 49],\n",
       "       [25, 21, 32, 10,  3, 28, 42, 13],\n",
       "       [39, 30, 15,  2,  9, 13, 33, 19],\n",
       "       [ 9, 49, 29, 19, 33,  8, 47, 39],\n",
       "       [45, 48,  6, 20,  6, 45, 11,  9],\n",
       "       [36, 11, 13, 28, 38, 46, 20,  3]])"
      ]
     },
     "execution_count": 66,
     "metadata": {},
     "output_type": "execute_result"
    }
   ],
   "source": [
    "arr3 = np.random.randint(1, 50, (8, 8))\n",
    "arr3"
   ]
  },
  {
   "cell_type": "code",
   "execution_count": 67,
   "metadata": {},
   "outputs": [],
   "source": [
    "### 2. savez()\n",
    "# 写入多个数组到文件中，默认后缀为 .npz\n",
    "np.savez('more_arr', n2=arr2, n3=arr3)"
   ]
  },
  {
   "cell_type": "code",
   "execution_count": 68,
   "metadata": {},
   "outputs": [
    {
     "data": {
      "text/plain": [
       "array([[12, 20,  4, 14,  3, 39],\n",
       "       [30, 20, 19, 12,  2, 36],\n",
       "       [22, 39, 30, 24, 46,  4],\n",
       "       [26, 46, 20, 42, 45, 25],\n",
       "       [39, 14, 36, 35,  8, 36]])"
      ]
     },
     "execution_count": 68,
     "metadata": {},
     "output_type": "execute_result"
    }
   ],
   "source": [
    "# 从文件中读取数组\n",
    "arr4 = np.load('more_arr.npz')\n",
    "arr4['n2']"
   ]
  },
  {
   "cell_type": "code",
   "execution_count": 69,
   "metadata": {},
   "outputs": [
    {
     "data": {
      "text/plain": [
       "array([[38, 31, 27, 11, 25, 37,  4, 39],\n",
       "       [29, 33, 32, 13, 32,  9, 42,  7],\n",
       "       [43, 46, 35, 25, 28,  7, 37, 49],\n",
       "       [25, 21, 32, 10,  3, 28, 42, 13],\n",
       "       [39, 30, 15,  2,  9, 13, 33, 19],\n",
       "       [ 9, 49, 29, 19, 33,  8, 47, 39],\n",
       "       [45, 48,  6, 20,  6, 45, 11,  9],\n",
       "       [36, 11, 13, 28, 38, 46, 20,  3]])"
      ]
     },
     "execution_count": 69,
     "metadata": {},
     "output_type": "execute_result"
    }
   ],
   "source": [
    "arr4['n3']"
   ]
  },
  {
   "cell_type": "markdown",
   "metadata": {},
   "source": [
    "### 2. savetxt() 和 genfromtxt()：\n",
    "\n",
    "> NumPy中使用np.loadtxt()或者更加专门化的np.genfromtxt()将数据加载到普通的Numpy数组中，savetxt() 将数据保存到磁盘文件里。这些函数都有许多选项可供使用：指定各种分隔符、读取指定列，指定数据类型等。我们以一个简单的逗号分割文件(csv)为例："
   ]
  },
  {
   "cell_type": "code",
   "execution_count": 70,
   "metadata": {},
   "outputs": [],
   "source": [
    "arr1 = np.array([\n",
    "    ['column1', 'column2', 'column3', 'column4', 'column5'],\n",
    "    ['Python', 'JavaScript', 'Ruby', 'PHP', 'R'],\n",
    "    ['C', 'C++', 'Java', 'D', 'Go'],\n",
    "    ['Fortran', 'Lisp', 'VB', 'Delphi', 'Perl'],\n",
    "    ['MySQL', 'Oracle', 'Redis', 'MongoDB', 'HBase']\n",
    "])"
   ]
  },
  {
   "cell_type": "code",
   "execution_count": 71,
   "metadata": {},
   "outputs": [],
   "source": [
    "# np.savetxt() 可以将数组保存成csv文件，每个数据之间用逗号隔开，fmt表示按字符串保存\n",
    "np.savetxt('arr1.csv', arr1, delimiter=',', fmt='%s')"
   ]
  },
  {
   "cell_type": "code",
   "execution_count": 72,
   "metadata": {},
   "outputs": [
    {
     "data": {
      "text/plain": [
       "array([['column1', 'column2', 'column3', 'column4', 'column5'],\n",
       "       ['Python', 'JavaScript', 'Ruby', 'PHP', 'R'],\n",
       "       ['C', 'C++', 'Java', 'D', 'Go'],\n",
       "       ['Fortran', 'Lisp', 'VB', 'Delphi', 'Perl'],\n",
       "       ['MySQL', 'Oracle', 'Redis', 'MongoDB', 'HBase']], dtype='<U10')"
      ]
     },
     "execution_count": 72,
     "metadata": {},
     "output_type": "execute_result"
    }
   ],
   "source": [
    "# np.gensfromtxt() 读取csv文件，并指定分隔符和数据类型\n",
    "np.genfromtxt('arr1.csv', delimiter=',', dtype=str)"
   ]
  },
  {
   "cell_type": "code",
   "execution_count": 75,
   "metadata": {},
   "outputs": [
    {
     "data": {
      "text/plain": [
       "array([['column1', 'column3', 'column5'],\n",
       "       ['Python', 'Ruby', 'R'],\n",
       "       ['C', 'Java', 'Go'],\n",
       "       ['Fortran', 'VB', 'Perl'],\n",
       "       ['MySQL', 'Redis', 'HBase']], dtype='<U7')"
      ]
     },
     "execution_count": 75,
     "metadata": {},
     "output_type": "execute_result"
    }
   ],
   "source": [
    "# np.gensfromtxt() 读取csv文件，并指定分隔符和数据类型，以及列索引\n",
    "np.genfromtxt('arr1.csv', delimiter=',', dtype=str, usecols=[0, 2, 4])"
   ]
  },
  {
   "cell_type": "code",
   "execution_count": null,
   "metadata": {},
   "outputs": [],
   "source": []
  },
  {
   "cell_type": "code",
   "execution_count": null,
   "metadata": {},
   "outputs": [],
   "source": []
  },
  {
   "cell_type": "code",
   "execution_count": null,
   "metadata": {},
   "outputs": [],
   "source": []
  }
 ],
 "metadata": {
  "kernelspec": {
   "display_name": "Python 3",
   "language": "python",
   "name": "python3"
  },
  "language_info": {
   "codemirror_mode": {
    "name": "ipython",
    "version": 3
   },
   "file_extension": ".py",
   "mimetype": "text/x-python",
   "name": "python",
   "nbconvert_exporter": "python",
   "pygments_lexer": "ipython3",
   "version": "3.6.6"
  }
 },
 "nbformat": 4,
 "nbformat_minor": 2
}
