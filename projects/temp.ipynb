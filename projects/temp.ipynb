{
 "cells": [
  {
   "cell_type": "code",
   "execution_count": 18,
   "metadata": {
    "scrolled": false
   },
   "outputs": [],
   "source": [
    "import numpy as np\n",
    "import pandas as pd"
   ]
  },
  {
   "cell_type": "code",
   "execution_count": 19,
   "metadata": {},
   "outputs": [],
   "source": [
    "from IPython.display import Image"
   ]
  },
  {
   "cell_type": "code",
   "execution_count": 33,
   "metadata": {},
   "outputs": [],
   "source": [
    "np.random.seed(666)\n",
    "a = np.random.randint(1,100,100)"
   ]
  },
  {
   "cell_type": "code",
   "execution_count": 35,
   "metadata": {},
   "outputs": [],
   "source": [
    "b = a.reshape(20,-1)"
   ]
  },
  {
   "cell_type": "code",
   "execution_count": 36,
   "metadata": {},
   "outputs": [
    {
     "data": {
      "text/plain": [
       "array([[ 3, 46, 31, 63, 71],\n",
       "       [74, 31, 37, 62, 92],\n",
       "       [95, 52, 61, 96, 29],\n",
       "       [15, 98, 64, 17, 47],\n",
       "       [40, 70, 83, 77, 80],\n",
       "       [14, 70, 21, 12, 25],\n",
       "       [21, 37, 49, 37, 95],\n",
       "       [47, 48, 17, 78, 37],\n",
       "       [27,  6, 43, 46, 34],\n",
       "       [65, 95, 65, 28, 15],\n",
       "       [39, 65, 93, 84,  3],\n",
       "       [92, 35, 87, 28, 80],\n",
       "       [39, 28, 81, 58, 84],\n",
       "       [39, 10, 52, 78, 46],\n",
       "       [ 3, 89, 64, 24, 12],\n",
       "       [72, 55, 85, 48, 20],\n",
       "       [41, 48, 22, 94, 84],\n",
       "       [ 6, 26, 90, 70,  5],\n",
       "       [13, 61, 59, 19, 70],\n",
       "       [21, 53, 26, 64, 92]])"
      ]
     },
     "execution_count": 36,
     "metadata": {},
     "output_type": "execute_result"
    }
   ],
   "source": [
    "b"
   ]
  },
  {
   "cell_type": "code",
   "execution_count": 37,
   "metadata": {},
   "outputs": [],
   "source": [
    "from sklearn.preprocessing import StandardScaler"
   ]
  },
  {
   "cell_type": "code",
   "execution_count": 38,
   "metadata": {},
   "outputs": [],
   "source": [
    "scaler = StandardScaler()"
   ]
  },
  {
   "cell_type": "code",
   "execution_count": 43,
   "metadata": {
    "scrolled": false
   },
   "outputs": [
    {
     "name": "stderr",
     "output_type": "stream",
     "text": [
      "/Users/jing/.virtualenvs/pydata/lib/python3.6/site-packages/sklearn/utils/validation.py:475: DataConversionWarning: Data with input dtype int64 was converted to float64 by StandardScaler.\n",
      "  warnings.warn(msg, DataConversionWarning)\n"
     ]
    }
   ],
   "source": [
    "c = scaler.fit_transform(b)"
   ]
  },
  {
   "cell_type": "code",
   "execution_count": 44,
   "metadata": {},
   "outputs": [
    {
     "data": {
      "text/plain": [
       "array([[-1.27443467, -0.20697466, -1.04360182,  0.34113546,  0.63400539],\n",
       "       [ 1.28887586, -0.80981348, -0.79804845,  0.30258908,  1.30137949],\n",
       "       [ 2.04703813,  0.03416087,  0.18416503,  1.61316599, -0.7007428 ],\n",
       "       [-0.84119909,  1.88286658,  0.30694171, -1.43199801, -0.12870786],\n",
       "       [ 0.06137504,  0.75756745,  1.08452738,  0.88078478,  0.92002286],\n",
       "       [-0.87730205,  0.75756745, -1.45285744, -1.6247299 , -0.82786168],\n",
       "       [-0.6245813 , -0.56867795, -0.30694171, -0.66107041,  1.39671865],\n",
       "       [ 0.3140958 , -0.12659615, -1.61655969,  0.91933116, -0.44650505],\n",
       "       [-0.40796351, -1.81454485, -0.55249508, -0.31415299, -0.54184421],\n",
       "       [ 0.96394917,  1.76229882,  0.34786727, -1.00798783, -1.14565887],\n",
       "       [ 0.02527208,  0.55662118,  1.493783  ,  1.15060943, -1.5270155 ],\n",
       "       [ 1.93872923, -0.64905646,  1.24822963, -1.00798783,  0.92002286],\n",
       "       [ 0.02527208, -0.93038125,  1.00267626,  0.14840356,  1.04714174],\n",
       "       [ 0.02527208, -1.65378783, -0.18416503,  0.91933116, -0.16048758],\n",
       "       [-1.27443467,  1.52116329,  0.30694171, -1.16217335, -1.24099803],\n",
       "       [ 1.21666993,  0.15472863,  1.16637851, -0.23706024, -0.98676027],\n",
       "       [ 0.09747801, -0.12659615, -1.41193188,  1.53607323,  1.04714174],\n",
       "       [-1.16612578, -1.01075976,  1.37100632,  0.61096012, -1.46345606],\n",
       "       [-0.91340502,  0.39586416,  0.1023139 , -1.35490525,  0.60222567],\n",
       "       [-0.6245813 ,  0.07435012, -1.24822963,  0.37968184,  1.30137949]])"
      ]
     },
     "execution_count": 44,
     "metadata": {},
     "output_type": "execute_result"
    }
   ],
   "source": [
    "c"
   ]
  },
  {
   "cell_type": "code",
   "execution_count": 46,
   "metadata": {},
   "outputs": [
    {
     "data": {
      "text/plain": [
       "array([[ 3., 46., 31., 63., 71.],\n",
       "       [74., 31., 37., 62., 92.],\n",
       "       [95., 52., 61., 96., 29.],\n",
       "       [15., 98., 64., 17., 47.],\n",
       "       [40., 70., 83., 77., 80.],\n",
       "       [14., 70., 21., 12., 25.],\n",
       "       [21., 37., 49., 37., 95.],\n",
       "       [47., 48., 17., 78., 37.],\n",
       "       [27.,  6., 43., 46., 34.],\n",
       "       [65., 95., 65., 28., 15.],\n",
       "       [39., 65., 93., 84.,  3.],\n",
       "       [92., 35., 87., 28., 80.],\n",
       "       [39., 28., 81., 58., 84.],\n",
       "       [39., 10., 52., 78., 46.],\n",
       "       [ 3., 89., 64., 24., 12.],\n",
       "       [72., 55., 85., 48., 20.],\n",
       "       [41., 48., 22., 94., 84.],\n",
       "       [ 6., 26., 90., 70.,  5.],\n",
       "       [13., 61., 59., 19., 70.],\n",
       "       [21., 53., 26., 64., 92.]])"
      ]
     },
     "execution_count": 46,
     "metadata": {},
     "output_type": "execute_result"
    }
   ],
   "source": [
    "scaler.inverse_transform(c)"
   ]
  },
  {
   "cell_type": "code",
   "execution_count": 52,
   "metadata": {},
   "outputs": [
    {
     "name": "stderr",
     "output_type": "stream",
     "text": [
      "/Users/jing/.virtualenvs/pydata/lib/python3.6/site-packages/sklearn/utils/validation.py:475: DataConversionWarning: Data with input dtype int64 was converted to float64 by StandardScaler.\n",
      "  warnings.warn(msg, DataConversionWarning)\n"
     ]
    },
    {
     "data": {
      "text/plain": [
       "array([[-1.22101504, -0.58280704, -1.27516865,  0.        ,  0.31557101],\n",
       "       [ 0.8236092 , -1.23520298, -0.95901113, -0.03833698,  1.23598646],\n",
       "       [ 1.42835722, -0.32184866,  0.30561893,  1.26512019, -1.52525988],\n",
       "       [-0.87544475,  1.67883221,  0.46369769, -1.76350087, -0.73633236],\n",
       "       [-0.15550663,  0.46102646,  1.46486316,  0.53671766,  0.71003477]])"
      ]
     },
     "execution_count": 52,
     "metadata": {},
     "output_type": "execute_result"
    }
   ],
   "source": [
    "scaler.fit_transform(b[:5])"
   ]
  },
  {
   "cell_type": "code",
   "execution_count": 53,
   "metadata": {},
   "outputs": [
    {
     "data": {
      "text/plain": [
       "array([[ 3, 46, 31, 63, 71],\n",
       "       [74, 31, 37, 62, 92],\n",
       "       [95, 52, 61, 96, 29],\n",
       "       [15, 98, 64, 17, 47],\n",
       "       [40, 70, 83, 77, 80]])"
      ]
     },
     "execution_count": 53,
     "metadata": {},
     "output_type": "execute_result"
    }
   ],
   "source": [
    "b[:5]"
   ]
  },
  {
   "cell_type": "code",
   "execution_count": 55,
   "metadata": {},
   "outputs": [],
   "source": [
    "d = b[:5]"
   ]
  },
  {
   "cell_type": "code",
   "execution_count": 68,
   "metadata": {},
   "outputs": [
    {
     "data": {
      "text/plain": [
       "array([45.4, 59.4, 55.2, 63. , 63.8])"
      ]
     },
     "execution_count": 68,
     "metadata": {},
     "output_type": "execute_result"
    }
   ],
   "source": [
    "d.mean(axis=0)"
   ]
  },
  {
   "cell_type": "code",
   "execution_count": 69,
   "metadata": {},
   "outputs": [
    {
     "data": {
      "text/plain": [
       "array([ 3, 74, 95, 15, 40])"
      ]
     },
     "execution_count": 69,
     "metadata": {},
     "output_type": "execute_result"
    }
   ],
   "source": [
    "d[:,0]"
   ]
  },
  {
   "cell_type": "code",
   "execution_count": 70,
   "metadata": {},
   "outputs": [
    {
     "data": {
      "text/plain": [
       "array([34.72520698, 22.99217258, 18.97788186, 26.08447814, 22.81578401])"
      ]
     },
     "execution_count": 70,
     "metadata": {},
     "output_type": "execute_result"
    }
   ],
   "source": [
    "d.std(axis=0)"
   ]
  },
  {
   "cell_type": "code",
   "execution_count": 72,
   "metadata": {},
   "outputs": [],
   "source": [
    "s = (d-d.mean(axis=0))/d.std(axis=0)"
   ]
  },
  {
   "cell_type": "code",
   "execution_count": 73,
   "metadata": {},
   "outputs": [
    {
     "data": {
      "text/plain": [
       "array([[-1.22101504, -0.58280704, -1.27516865,  0.        ,  0.31557101],\n",
       "       [ 0.8236092 , -1.23520298, -0.95901113, -0.03833698,  1.23598646],\n",
       "       [ 1.42835722, -0.32184866,  0.30561893,  1.26512019, -1.52525988],\n",
       "       [-0.87544475,  1.67883221,  0.46369769, -1.76350087, -0.73633236],\n",
       "       [-0.15550663,  0.46102646,  1.46486316,  0.53671766,  0.71003477]])"
      ]
     },
     "execution_count": 73,
     "metadata": {},
     "output_type": "execute_result"
    }
   ],
   "source": [
    "s"
   ]
  },
  {
   "cell_type": "code",
   "execution_count": 74,
   "metadata": {},
   "outputs": [
    {
     "data": {
      "text/plain": [
       "array([[ 3., 46., 31., 63., 71.],\n",
       "       [74., 31., 37., 62., 92.],\n",
       "       [95., 52., 61., 96., 29.],\n",
       "       [15., 98., 64., 17., 47.],\n",
       "       [40., 70., 83., 77., 80.]])"
      ]
     },
     "execution_count": 74,
     "metadata": {},
     "output_type": "execute_result"
    }
   ],
   "source": [
    "s*(d.std(axis=0))+(d.mean(axis=0))"
   ]
  },
  {
   "cell_type": "code",
   "execution_count": null,
   "metadata": {},
   "outputs": [],
   "source": []
  }
 ],
 "metadata": {
  "kernelspec": {
   "display_name": "Python 3",
   "language": "python",
   "name": "python3"
  },
  "language_info": {
   "codemirror_mode": {
    "name": "ipython",
    "version": 3
   },
   "file_extension": ".py",
   "mimetype": "text/x-python",
   "name": "python",
   "nbconvert_exporter": "python",
   "pygments_lexer": "ipython3",
   "version": "3.6.3"
  }
 },
 "nbformat": 4,
 "nbformat_minor": 2
}
