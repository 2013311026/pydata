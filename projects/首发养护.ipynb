{
 "cells": [
  {
   "cell_type": "code",
   "execution_count": 1,
   "metadata": {
    "collapsed": true
   },
   "outputs": [],
   "source": [
    "import numpy as np\n",
    "import pandas as pd\n",
    "import matplotlib.pyplot as plt\n",
    "import seaborn as sns\n",
    "sns.set()\n",
    "\n",
    "from matplotlib.font_manager import FontProperties\n",
    "font = FontProperties(fname='/Library/Fonts/Songti.ttc', size=10)"
   ]
  },
  {
   "cell_type": "code",
   "execution_count": 2,
   "metadata": {},
   "outputs": [],
   "source": [
    "filepath = '/Users/jing/我的文档/plantiq/首发养护/work.xls'\n",
    "\n",
    "data = pd.read_excel(filepath)"
   ]
  },
  {
   "cell_type": "code",
   "execution_count": 3,
   "metadata": {
    "collapsed": false
   },
   "outputs": [
    {
     "name": "stdout",
     "output_type": "stream",
     "text": [
      "    id road_name direct_dict_name work_type_name group_name fuzeren_user_name  \\\n0  575      京津高速               进京         钢板护栏维修     钢板护栏维修                付佳   \n1  577      京津高速               进京         钢板护栏维修     钢板护栏维修                付佳   \n2  578      京哈高速               出京         钢板护栏维修     钢板护栏维修               苑保杰   \n3  579      京哈高速               进京     人工修补坑槽(热料)       路面维修               王树山   \n4  580       六环路               内环     人工修补坑槽(热料)       路面维修               苑保杰   \n\n           confirm_dt                s_dt                e_dt  group_id  \\\n0  8/28/2017 15:56:59  8/28/2017 15:56:35  8/28/2017 15:56:41      89.0   \n1  8/28/2017 15:57:17  8/28/2017 15:57:04  8/28/2017 15:57:08      89.0   \n2  8/15/2017 15:28:41  8/15/2017 15:26:20  8/15/2017 15:26:33      89.0   \n3   9/7/2017 09:10:07  8/29/2017 18:48:51  8/31/2017 17:10:35      67.0   \n4  8/15/2017 16:27:34  8/15/2017 16:20:58  8/15/2017 16:25:47      67.0   \n\n  dept_name work_unit smileagek  smileagem  emileagek  emileagem laiyuan  \n0      京津一班         块        13        500         13        500    员工上报  \n1      京津一班         块        13        500         13        500    员工上报  \n2      京哈一班         块        30         31         30         31    员工上报  \n3      京哈二班       平方米        26        400         26        500    员工上报  \n4      京哈一班       平方米        40        639         42        638    员工上报  \n"
     ]
    }
   ],
   "source": [
    "print(data.head())"
   ]
  },
  {
   "cell_type": "code",
   "execution_count": 4,
   "metadata": {
    "collapsed": false
   },
   "outputs": [
    {
     "name": "stdout",
     "output_type": "stream",
     "text": [
      "     id road_name direct_dict_name work_type_name group_name  \\\n0   575      京津高速               进京         钢板护栏维修     钢板护栏维修   \n1   577      京津高速               进京         钢板护栏维修     钢板护栏维修   \n8   584      京津高速               进京         钢板护栏维修     钢板护栏维修   \n9   589      京津高速               出京         钢板护栏维修     钢板护栏维修   \n10  590       六环路               内环      调直、更换调头护栏     调头护栏维修   \n\n   fuzeren_user_name          confirm_dt                s_dt  \\\n0                 付佳  8/28/2017 15:56:59  8/28/2017 15:56:35   \n1                 付佳  8/28/2017 15:57:17  8/28/2017 15:57:04   \n8                 付佳  8/20/2017 20:07:25  8/19/2017 08:17:54   \n9                 付佳  8/19/2017 18:55:45  8/19/2017 15:57:23   \n10                付佳  8/24/2017 20:13:22  8/20/2017 15:10:58   \n\n                  e_dt  group_id dept_name work_unit smileagek  smileagem  \\\n0   8/28/2017 15:56:41      89.0      京津一班         块        13        500   \n1   8/28/2017 15:57:08      89.0      京津一班         块        13        500   \n8   8/19/2017 10:01:48      89.0      京津一班         块         4        200   \n9   8/19/2017 15:46:56      89.0      京津一班         块         0         50   \n10  8/21/2017 14:14:32      95.0      京津一班         米        54          5   \n\n    emileagek  emileagem laiyuan  \n0          13        500    员工上报  \n1          13        500    员工上报  \n8           4        200    员工上报  \n9           0         50    员工上报  \n10         54          5    员工上报  \n"
     ]
    }
   ],
   "source": [
    "print(data.groupby('fuzeren_user_name').get_group('付佳').head())"
   ]
  },
  {
   "cell_type": "code",
   "execution_count": 5,
   "metadata": {},
   "outputs": [],
   "source": [
    "bar = data['fuzeren_user_name'].value_counts().head(10)\n",
    "bar.plot.bar(rot=0)\n",
    "plt.xticks(fontproperties=font)\n",
    "plt.show()"
   ]
  },
  {
   "cell_type": "code",
   "execution_count": 6,
   "metadata": {},
   "outputs": [],
   "source": [
    "pie = data['fuzeren_user_name'].value_counts().head(10)\n",
    "p,text = plt.pie(pie, labels=pie.index)\n",
    "\n",
    "for t in text: \n",
    "    t.set_fontproperties(font) # 把每个文本设成中文字体\n",
    "\n",
    "plt.show()"
   ]
  },
  {
   "cell_type": "code",
   "execution_count": 7,
   "metadata": {},
   "outputs": [],
   "source": [
    "bar = data['road_name'].value_counts().head(10)\n",
    "bar.plot.bar(rot=90)\n",
    "plt.xticks(fontproperties=font)\n",
    "plt.show()"
   ]
  },
  {
   "cell_type": "code",
   "execution_count": 8,
   "metadata": {},
   "outputs": [],
   "source": [
    "bar = data['group_name'].value_counts().head(10)\n",
    "bar.plot.bar(rot=90)\n",
    "plt.xticks(fontproperties=font)\n",
    "plt.show()"
   ]
  },
  {
   "cell_type": "code",
   "execution_count": 9,
   "metadata": {},
   "outputs": [],
   "source": [
    "bar = data['dept_name'].value_counts().head(10)\n",
    "bar.plot.bar(rot=90)\n",
    "plt.xticks(fontproperties=font)\n",
    "plt.show()"
   ]
  },
  {
   "cell_type": "code",
   "execution_count": 10,
   "metadata": {},
   "outputs": [],
   "source": [
    "bar = data[data['group_name'] == '钢板护栏维修']['road_name'].value_counts()\n",
    "bar.plot.bar(rot=90)\n",
    "for a,b in zip(np.arange(len(bar.index)), bar.values):\n",
    "    plt.text(a, b+0.05, '%.0f' % b, ha='center', va='bottom', fontsize=7)\n",
    "plt.xticks(fontproperties=font)\n",
    "plt.show()"
   ]
  },
  {
   "cell_type": "code",
   "execution_count": 11,
   "metadata": {},
   "outputs": [],
   "source": [
    "bar = data[data['group_name'] == '钢板护栏维修']['road_name'].value_counts().sort_values()\n",
    "bar.plot.barh()\n",
    "for a,b in zip(np.arange(len(bar.index)), bar.values):\n",
    "    plt.text(b+15, a-0.2, '%.0f' % b, ha='center', va='bottom', fontsize=7)\n",
    "plt.yticks(fontproperties=font)\n",
    "plt.show()"
   ]
  },
  {
   "cell_type": "code",
   "execution_count": 12,
   "metadata": {},
   "outputs": [],
   "source": [
    "pie = data['fuzeren_user_name'].value_counts().head(10)\n",
    "\n",
    "#调节图形大小，宽，高\n",
    "plt.figure(figsize=(12,8))\n",
    "#定义饼状图的标签，标签是列表\n",
    "labels = pie.index\n",
    "#每个标签占多大，会自动去算百分比\n",
    "sizes = pie\n",
    "# colors = ['red','yellowgreen','lightskyblue']\n",
    "#将某部分爆炸出来， 使用括号，将第一块分割出来，数值的大小是分割出来的与其他两块的间隙\n",
    "explode = (0.05,0,0,0,0,0,0,0,0,0)\n",
    "\n",
    "patches,l_text,p_text = plt.pie(sizes,explode=explode,labels=labels,\n",
    "                                labeldistance = 1.1,autopct = '%3.1f%%',shadow = False,\n",
    "                                startangle = 90,pctdistance = 0.6)\n",
    "\n",
    "#labeldistance，文本的位置离远点有多远，1.1指1.1倍半径的位置\n",
    "#autopct，圆里面的文本格式，%3.1f%%表示小数有三位，整数有一位的浮点数\n",
    "#shadow，饼是否有阴影\n",
    "#startangle，起始角度，0，表示从0开始逆时针转，为第一块。一般选择从90度开始比较好看\n",
    "#pctdistance，百分比的text离圆心的距离\n",
    "#patches, l_texts, p_texts，为了得到饼图的返回值，p_texts饼图内部文本的，l_texts饼图外label的文本\n",
    "\n",
    "#改变文本的大小\n",
    "#方法是把每一个text遍历。调用set_size方法设置它的属性\n",
    "for t in l_text:\n",
    "    t.set_size=(30)\n",
    "for t in p_text:\n",
    "    t.set_size=(20)\n",
    "# 设置x，y轴刻度一致，这样饼图才能是圆的\n",
    "plt.axis('equal')\n",
    "plt.legend(prop=font)\n",
    "\n",
    "for t in l_text: \n",
    "    t.set_fontproperties(font) # 把每个文本设成中文字体\n",
    "\n",
    "plt.show()\n"
   ]
  },
  {
   "cell_type": "code",
   "execution_count": 13,
   "metadata": {},
   "outputs": [],
   "source": [
    "bp = sns.barplot(x=bar.index,y=bar.values)\n",
    "bp.set_xticklabels(labels=bar.index,rotation=90,fontsize='small')\n",
    "plt.xticks(fontproperties=font)\n",
    "plt.show()"
   ]
  },
  {
   "cell_type": "code",
   "execution_count": 14,
   "metadata": {},
   "outputs": [],
   "source": [
    "bp = sns.barplot(y=bar.index,x=bar.values)\n",
    "bp.set_yticklabels(labels=bar.index,rotation=0,fontsize='small')\n",
    "plt.yticks(fontproperties=font)\n",
    "plt.show()"
   ]
  },
  {
   "cell_type": "code",
   "execution_count": 15,
   "metadata": {},
   "outputs": [],
   "source": []
  }
 ],
 "metadata": {
  "kernelspec": {
   "display_name": "Python 2",
   "language": "python",
   "name": "python2"
  },
  "language_info": {
   "codemirror_mode": {
    "name": "ipython",
    "version": 2
   },
   "file_extension": ".py",
   "mimetype": "text/x-python",
   "name": "python",
   "nbconvert_exporter": "python",
   "pygments_lexer": "ipython2",
   "version": "2.7.6"
  }
 },
 "nbformat": 4,
 "nbformat_minor": 0
}
