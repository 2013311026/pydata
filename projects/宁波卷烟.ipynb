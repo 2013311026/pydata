{
 "cells": [
  {
   "cell_type": "code",
   "execution_count": 1,
   "metadata": {},
   "outputs": [],
   "source": [
    "# -*- coding:utf-8 -*-\n",
    "\n",
    "import numpy as np\n",
    "import pandas as pd\n",
    "import matplotlib.pyplot as plt\n",
    "import seaborn as sns\n",
    "\n",
    "sns.set()"
   ]
  },
  {
   "cell_type": "code",
   "execution_count": 2,
   "metadata": {
    "scrolled": true
   },
   "outputs": [],
   "source": [
    "# %%time\n",
    "\n",
    "# import os\n",
    "\n",
    "# filePath = r'D:\\files'\n",
    "\n",
    "# fileMap = {}\n",
    "# size = 0\n",
    "\n",
    "# # 遍历filePath下的文件、文件夹（包括子目录）\n",
    "# for parent, dirnames, filenames in os.walk(filePath):\n",
    "#     for dirname in dirnames:\n",
    "# #         print('parent is %s, dirname is %s' % (parent, dirname))\n",
    "#         pass\n",
    "\n",
    "#     for filename in filenames:\n",
    "# #         print('parent is %s, filename is %s' % (parent, filename))\n",
    "# #         print('the full name of the file is %s' % os.path.join(parent, filename))\n",
    "        \n",
    "#         size = os.path.getsize(os.path.join(parent, filename))\n",
    "#         fileMap.setdefault(os.path.join(parent, filename), size)\n",
    "\n",
    "# filelist = sorted(fileMap.items(), key=lambda x: x[1], reverse=True)"
   ]
  },
  {
   "cell_type": "code",
   "execution_count": 3,
   "metadata": {},
   "outputs": [],
   "source": [
    "# for i in filelist:\n",
    "#     col = i[0].split('.')[-2].split('\\\\')[-1]\n",
    "#     print(col)"
   ]
  },
  {
   "cell_type": "code",
   "execution_count": 4,
   "metadata": {},
   "outputs": [],
   "source": [
    "# %%time\n",
    "\n",
    "# def df():\n",
    "#     for filename, size in filelist[:400]:\n",
    "#         reader = pd.read_csv(filename, index_col=False, iterator=True)\n",
    "#         loop = True\n",
    "#         chunkSize = 2000000\n",
    "#         chunks = []\n",
    "#         while loop:\n",
    "#             try:\n",
    "#                 chunk = reader.get_chunk(chunkSize)\n",
    "#                 chunk = chunk[['Value']]#['2018-07-12 00:00:00':'2018-07-19 00:00:00']\n",
    "#                 col = filename.split('.')[-2].split('\\\\')[-1]\n",
    "#                 chunk.rename(columns={'Value':col}, inplace=True)\n",
    "#                 chunks.append(chunk)\n",
    "#             except StopIteration:\n",
    "#                 loop = False\n",
    "#                 print (\"Iteration is stopped.\")\n",
    "#         df = pd.concat(chunks, ignore_index=True, axis=0)\n",
    "#         yield df\n",
    "\n",
    "# dfs = pd.concat(df(), axis=1)"
   ]
  },
  {
   "cell_type": "code",
   "execution_count": 5,
   "metadata": {
    "scrolled": true
   },
   "outputs": [],
   "source": [
    "# for filename, size in filelist[:1]:\n",
    "#     reader = pd.read_csv(filename, index_col=False)\n",
    "#     dfs.index = reader['Time']"
   ]
  },
  {
   "cell_type": "code",
   "execution_count": null,
   "metadata": {},
   "outputs": [],
   "source": []
  },
  {
   "cell_type": "code",
   "execution_count": null,
   "metadata": {},
   "outputs": [],
   "source": []
  },
  {
   "cell_type": "code",
   "execution_count": null,
   "metadata": {},
   "outputs": [],
   "source": []
  },
  {
   "cell_type": "code",
   "execution_count": null,
   "metadata": {},
   "outputs": [],
   "source": []
  },
  {
   "cell_type": "code",
   "execution_count": null,
   "metadata": {},
   "outputs": [],
   "source": []
  }
 ],
 "metadata": {
  "kernelspec": {
   "display_name": "Python 3",
   "language": "python",
   "name": "python3"
  },
  "language_info": {
   "codemirror_mode": {
    "name": "ipython",
    "version": 3
   },
   "file_extension": ".py",
   "mimetype": "text/x-python",
   "name": "python",
   "nbconvert_exporter": "python",
   "pygments_lexer": "ipython3",
   "version": "3.6.6"
  }
 },
 "nbformat": 4,
 "nbformat_minor": 2
}
