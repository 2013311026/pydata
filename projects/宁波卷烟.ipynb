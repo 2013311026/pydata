{
 "cells": [
  {
   "cell_type": "code",
   "execution_count": null,
   "metadata": {},
   "outputs": [],
   "source": [
    "# -*- coding:utf-8 -*-\n",
    "\n",
    "import numpy as np\n",
    "import pandas as pd\n",
    "import matplotlib.pyplot as plt\n",
    "import seaborn as sns\n",
    "\n",
    "plt.rcParams['font.sans-serif']=['SimHei']\n",
    "plt.rcParams['axes.unicode_minus'] = False"
   ]
  },
  {
   "cell_type": "code",
   "execution_count": null,
   "metadata": {
    "scrolled": true
   },
   "outputs": [],
   "source": [
    "# %%time\n",
    "\n",
    "# import os\n",
    "\n",
    "# filePath = r'D:\\data'\n",
    "\n",
    "# fileMap = {}\n",
    "# size = 0\n",
    "\n",
    "# # 遍历filePath下的文件、文件夹（包括子目录）\n",
    "# for parent, dirnames, filenames in os.walk(filePath):\n",
    "#     for dirname in dirnames:\n",
    "# #         print('parent is %s, dirname is %s' % (parent, dirname))\n",
    "#         pass\n",
    "\n",
    "#     for filename in filenames:\n",
    "# #         print('parent is %s, filename is %s' % (parent, filename))\n",
    "# #         print('the full name of the file is %s' % os.path.join(parent, filename))\n",
    "        \n",
    "#         size = os.path.getsize(os.path.join(parent, filename))\n",
    "#         fileMap.setdefault(os.path.join(parent, filename), size)\n",
    "\n",
    "# filelist = sorted(fileMap.items(), key=lambda x: x[1], reverse=True)"
   ]
  },
  {
   "cell_type": "code",
   "execution_count": null,
   "metadata": {},
   "outputs": [],
   "source": [
    "# %%time\n",
    "\n",
    "# def df():\n",
    "#     for filename, size in filelist[:400]:\n",
    "#         reader = pd.read_csv(filename, index_col=False, iterator=True)\n",
    "#         loop = True\n",
    "#         chunkSize = 2000000\n",
    "#         chunks = []\n",
    "#         while loop:\n",
    "#             try:\n",
    "#                 chunk = reader.get_chunk(chunkSize)\n",
    "#                 chunk = chunk[['Value']]#['2018-07-12 00:00:00':'2018-07-19 00:00:00']\n",
    "#                 col = filename.split('.')[-2].split('\\\\')[-1]\n",
    "#                 chunk.rename(columns={'Value':col}, inplace=True)\n",
    "#                 chunks.append(chunk)\n",
    "#             except StopIteration:\n",
    "#                 loop = False\n",
    "#                 print (\"Iteration is stopped.\")\n",
    "#         df = pd.concat(chunks, ignore_index=True, axis=0)\n",
    "#         yield df\n",
    "\n",
    "# dfs = pd.concat(df(), axis=1)\n",
    "\n",
    "# for filename, size in filelist[:1]:\n",
    "#     reader = pd.read_csv(filename, index_col=False)\n",
    "#     dfs.index = reader['Time']"
   ]
  },
  {
   "cell_type": "code",
   "execution_count": null,
   "metadata": {},
   "outputs": [],
   "source": [
    "import struct\n",
    "\n",
    "\n",
    "# 读取并解析二进制文件\n",
    "def rbf(path):\n",
    "    fd = open(path, 'rb')\n",
    "    sigs = []\n",
    "    sigstime = []\n",
    "    while fd:\n",
    "        buf = fd.read(60)\n",
    "        if len(buf) == 0:\n",
    "            break\n",
    "\n",
    "        sig_status = struct.unpack('B',buf[:1])  # 烟支状态\n",
    "        spare_0 = struct.unpack('B',buf[1:2])\n",
    "        bo_number = struct.unpack('L',buf[2:6])  # 烟支序号\n",
    "        bo_time = struct.unpack('8H',buf[6:22])  # 烟支生产时间\n",
    "        bo_time = list(bo_time)\n",
    "        del bo_time[2]  # 删除本周的第几天\n",
    "        day = '-'.join([str(i) for i in bo_time[:3]])\n",
    "        hour = ':'.join([str(i) for i in bo_time[3:-1]])\n",
    "        bo_time = []\n",
    "        bo_time.append(day + ' ' + hour)  # 组合成'2018-12-14 8:18:28'的形式\n",
    "        bo_srm_Weight = struct.unpack('H',buf[22:24])  # 重量\n",
    "        bo_srm_xsd = struct.unpack('f',buf[24:28])  # 吸丝带位置\n",
    "        bo_cis = struct.unpack('6H',buf[28:40])  # 吸阻，通风度，漏气，松头，光学外观，圆周值\n",
    "        sig = sig_status+spare_0+bo_number+bo_srm_Weight+bo_srm_xsd+bo_cis\n",
    "        sig_time = bo_time\n",
    "        sigs.append(sig)\n",
    "        sigstime.append(sig_time)\n",
    "    fd.close()\n",
    "    return sigs, sigstime"
   ]
  },
  {
   "cell_type": "code",
   "execution_count": null,
   "metadata": {
    "scrolled": true
   },
   "outputs": [],
   "source": [
    "# 根据解析出来的列表数据生成DataFrame数据\n",
    "def gendf(path, rule='1s'):\n",
    "    sigs, sigstime = rbf(path)\n",
    "\n",
    "    df = pd.DataFrame(sigs)\n",
    "    df.columns = ['烟支状态','spare_0','烟支序号','重量','吸丝带位置','吸阻','通风度','漏气','松头','光学外观','圆周值']\n",
    "\n",
    "    time = pd.DataFrame(sigstime)\n",
    "    time.columns = ['生产时间']\n",
    "    time = pd.to_datetime(time.iloc[:,0])\n",
    "\n",
    "    df.index = time\n",
    "\n",
    "    df = df.resample(rule).first()\n",
    "    return df"
   ]
  },
  {
   "cell_type": "code",
   "execution_count": null,
   "metadata": {},
   "outputs": [],
   "source": [
    "%%time\n",
    "\n",
    "filelist = [r'D:\\datasets\\宁波20181213-20190110\\2018-12-13_22-45_89_liqun89.dat',\n",
    "            r'D:\\datasets\\宁波20181213-20190110\\2018-12-14_7-30_90_liqun89.dat',\n",
    "            r'D:\\datasets\\宁波20181213-20190110\\2018-12-14_22-45_91_liqun89.dat',\n",
    "            r'D:\\datasets\\宁波20181213-20190110\\2018-12-15_7-30_92_liqun89.dat']\n",
    "dflist = []\n",
    "\n",
    "for f in filelist:\n",
    "    df = gendf(f)\n",
    "    dflist.append(df)"
   ]
  },
  {
   "cell_type": "code",
   "execution_count": null,
   "metadata": {
    "scrolled": true
   },
   "outputs": [],
   "source": [
    "dflist[0].head()"
   ]
  },
  {
   "cell_type": "code",
   "execution_count": null,
   "metadata": {
    "scrolled": true
   },
   "outputs": [],
   "source": [
    "dflist[1].head()"
   ]
  },
  {
   "cell_type": "code",
   "execution_count": null,
   "metadata": {
    "scrolled": true
   },
   "outputs": [],
   "source": [
    "dflist[2].head()"
   ]
  },
  {
   "cell_type": "code",
   "execution_count": null,
   "metadata": {
    "scrolled": true
   },
   "outputs": [],
   "source": [
    "dflist[3].head()"
   ]
  },
  {
   "cell_type": "code",
   "execution_count": null,
   "metadata": {
    "scrolled": true
   },
   "outputs": [],
   "source": [
    "# dflist[0].to_csv('dflist[0].csv', encoding='gbk')"
   ]
  },
  {
   "cell_type": "code",
   "execution_count": null,
   "metadata": {
    "scrolled": true
   },
   "outputs": [],
   "source": [
    "# dflist[1].to_csv('dflist[1].csv', encoding='gbk')"
   ]
  },
  {
   "cell_type": "code",
   "execution_count": null,
   "metadata": {
    "scrolled": true
   },
   "outputs": [],
   "source": [
    "# dflist[2].to_csv('dflist[2].csv', encoding='gbk')"
   ]
  },
  {
   "cell_type": "code",
   "execution_count": null,
   "metadata": {
    "scrolled": true
   },
   "outputs": [],
   "source": [
    "# dflist[3].to_csv('dflist[3].csv', encoding='gbk')"
   ]
  },
  {
   "cell_type": "code",
   "execution_count": null,
   "metadata": {
    "scrolled": false
   },
   "outputs": [],
   "source": [
    "dflist[0].吸丝带位置.plot(figsize=(12,6))\n",
    "plt.ylabel('吸丝带位置')\n",
    "plt.show()"
   ]
  },
  {
   "cell_type": "code",
   "execution_count": null,
   "metadata": {},
   "outputs": [],
   "source": [
    "dflist[1].吸丝带位置.plot(figsize=(12,6))\n",
    "plt.ylabel('吸丝带位置')\n",
    "plt.show()"
   ]
  },
  {
   "cell_type": "code",
   "execution_count": null,
   "metadata": {
    "scrolled": false
   },
   "outputs": [],
   "source": [
    "dflist[2].吸丝带位置.plot(figsize=(12,6))\n",
    "plt.ylabel('吸丝带位置')\n",
    "plt.show()"
   ]
  },
  {
   "cell_type": "code",
   "execution_count": null,
   "metadata": {},
   "outputs": [],
   "source": [
    "dflist[3].吸丝带位置.plot(figsize=(12,6))\n",
    "plt.ylabel('吸丝带位置')\n",
    "plt.show()"
   ]
  },
  {
   "cell_type": "code",
   "execution_count": null,
   "metadata": {},
   "outputs": [],
   "source": [
    "dflist[0].describe()"
   ]
  },
  {
   "cell_type": "code",
   "execution_count": null,
   "metadata": {},
   "outputs": [],
   "source": [
    "dflist[1].describe()"
   ]
  },
  {
   "cell_type": "code",
   "execution_count": null,
   "metadata": {},
   "outputs": [],
   "source": [
    "dflist[2].describe()"
   ]
  },
  {
   "cell_type": "code",
   "execution_count": null,
   "metadata": {},
   "outputs": [],
   "source": [
    "dflist[3].describe()"
   ]
  },
  {
   "cell_type": "code",
   "execution_count": null,
   "metadata": {
    "scrolled": false
   },
   "outputs": [],
   "source": [
    "plt.boxplot(dflist[3].吸丝带位置.dropna())"
   ]
  },
  {
   "cell_type": "code",
   "execution_count": null,
   "metadata": {
    "scrolled": true
   },
   "outputs": [],
   "source": [
    "from sklearn.preprocessing import StandardScaler\n",
    "\n",
    "\n",
    "scaler = StandardScaler()\n",
    "\n",
    "X = scaler.fit_transform(dflist[3].iloc[:,3:6].dropna())\n",
    "\n",
    "res = pd.DataFrame(X).diff().dropna().apply(lambda x: sum(x**2), axis=1)\n",
    "res[:200].plot()"
   ]
  },
  {
   "cell_type": "code",
   "execution_count": null,
   "metadata": {
    "scrolled": true
   },
   "outputs": [],
   "source": []
  },
  {
   "cell_type": "code",
   "execution_count": null,
   "metadata": {},
   "outputs": [],
   "source": []
  },
  {
   "cell_type": "code",
   "execution_count": null,
   "metadata": {},
   "outputs": [],
   "source": []
  },
  {
   "cell_type": "code",
   "execution_count": null,
   "metadata": {},
   "outputs": [],
   "source": []
  },
  {
   "cell_type": "code",
   "execution_count": null,
   "metadata": {},
   "outputs": [],
   "source": []
  },
  {
   "cell_type": "code",
   "execution_count": null,
   "metadata": {},
   "outputs": [],
   "source": []
  },
  {
   "cell_type": "code",
   "execution_count": null,
   "metadata": {},
   "outputs": [],
   "source": []
  }
 ],
 "metadata": {
  "kernelspec": {
   "display_name": "Python 3",
   "language": "python",
   "name": "python3"
  },
  "language_info": {
   "codemirror_mode": {
    "name": "ipython",
    "version": 3
   },
   "file_extension": ".py",
   "mimetype": "text/x-python",
   "name": "python",
   "nbconvert_exporter": "python",
   "pygments_lexer": "ipython3",
   "version": "3.6.6"
  }
 },
 "nbformat": 4,
 "nbformat_minor": 2
}
